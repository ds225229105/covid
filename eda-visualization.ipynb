{
 "cells": [
  {
   "cell_type": "code",
   "execution_count": 1,
   "id": "817f1538",
   "metadata": {
    "execution": {
     "iopub.execute_input": "2023-02-14T14:47:25.971448Z",
     "iopub.status.busy": "2023-02-14T14:47:25.970430Z",
     "iopub.status.idle": "2023-02-14T14:47:28.489493Z",
     "shell.execute_reply": "2023-02-14T14:47:28.488337Z"
    },
    "papermill": {
     "duration": 2.54714,
     "end_time": "2023-02-14T14:47:28.492930",
     "exception": false,
     "start_time": "2023-02-14T14:47:25.945790",
     "status": "completed"
    },
    "tags": []
   },
   "outputs": [],
   "source": [
    "import pandas as pd\n",
    "import numpy as np\n",
    "import matplotlib.pyplot as plt\n",
    "import seaborn as sns\n",
    "import plotly.express as px\n",
    "from ipywidgets import widgets, interactive"
   ]
  },
  {
   "cell_type": "markdown",
   "id": "10d6d55e",
   "metadata": {
    "papermill": {
     "duration": 0.017197,
     "end_time": "2023-02-14T14:47:28.528823",
     "exception": false,
     "start_time": "2023-02-14T14:47:28.511626",
     "status": "completed"
    },
    "tags": []
   },
   "source": [
    "# Import Data"
   ]
  },
  {
   "cell_type": "code",
   "execution_count": 2,
   "id": "7a43ff83",
   "metadata": {
    "execution": {
     "iopub.execute_input": "2023-02-14T14:47:28.567914Z",
     "iopub.status.busy": "2023-02-14T14:47:28.566982Z",
     "iopub.status.idle": "2023-02-14T14:47:28.778305Z",
     "shell.execute_reply": "2023-02-14T14:47:28.776925Z"
    },
    "papermill": {
     "duration": 0.23437,
     "end_time": "2023-02-14T14:47:28.781611",
     "exception": false,
     "start_time": "2023-02-14T14:47:28.547241",
     "status": "completed"
    },
    "tags": []
   },
   "outputs": [],
   "source": [
    "df_country = pd.read_csv(\"/kaggle/input/corona-virus-report/country_wise_latest.csv\", index_col=0)\n",
    "df_complete = pd.read_csv(\"/kaggle/input/corona-virus-report/covid_19_clean_complete.csv\", index_col=0)\n",
    "df_daywise = pd.read_csv(\"/kaggle/input/corona-virus-report/day_wise.csv\", index_col=0)\n",
    "df_world = pd.read_csv(\"/kaggle/input/corona-virus-report/worldometer_data.csv\", index_col=0)"
   ]
  },
  {
   "cell_type": "markdown",
   "id": "de9924f2",
   "metadata": {
    "papermill": {
     "duration": 0.017267,
     "end_time": "2023-02-14T14:47:28.817199",
     "exception": false,
     "start_time": "2023-02-14T14:47:28.799932",
     "status": "completed"
    },
    "tags": []
   },
   "source": [
    "# Display Data"
   ]
  },
  {
   "cell_type": "code",
   "execution_count": 3,
   "id": "4bd73507",
   "metadata": {
    "execution": {
     "iopub.execute_input": "2023-02-14T14:47:28.856211Z",
     "iopub.status.busy": "2023-02-14T14:47:28.855445Z",
     "iopub.status.idle": "2023-02-14T14:47:28.883136Z",
     "shell.execute_reply": "2023-02-14T14:47:28.881783Z"
    },
    "papermill": {
     "duration": 0.051224,
     "end_time": "2023-02-14T14:47:28.886820",
     "exception": false,
     "start_time": "2023-02-14T14:47:28.835596",
     "status": "completed"
    },
    "tags": []
   },
   "outputs": [
    {
     "data": {
      "text/html": [
       "<div>\n",
       "<style scoped>\n",
       "    .dataframe tbody tr th:only-of-type {\n",
       "        vertical-align: middle;\n",
       "    }\n",
       "\n",
       "    .dataframe tbody tr th {\n",
       "        vertical-align: top;\n",
       "    }\n",
       "\n",
       "    .dataframe thead th {\n",
       "        text-align: right;\n",
       "    }\n",
       "</style>\n",
       "<table border=\"1\" class=\"dataframe\">\n",
       "  <thead>\n",
       "    <tr style=\"text-align: right;\">\n",
       "      <th></th>\n",
       "      <th>Confirmed</th>\n",
       "      <th>Deaths</th>\n",
       "      <th>Recovered</th>\n",
       "      <th>Active</th>\n",
       "      <th>New cases</th>\n",
       "      <th>New deaths</th>\n",
       "      <th>New recovered</th>\n",
       "      <th>Deaths / 100 Cases</th>\n",
       "      <th>Recovered / 100 Cases</th>\n",
       "      <th>Deaths / 100 Recovered</th>\n",
       "      <th>Confirmed last week</th>\n",
       "      <th>1 week change</th>\n",
       "      <th>1 week % increase</th>\n",
       "      <th>WHO Region</th>\n",
       "    </tr>\n",
       "    <tr>\n",
       "      <th>Country/Region</th>\n",
       "      <th></th>\n",
       "      <th></th>\n",
       "      <th></th>\n",
       "      <th></th>\n",
       "      <th></th>\n",
       "      <th></th>\n",
       "      <th></th>\n",
       "      <th></th>\n",
       "      <th></th>\n",
       "      <th></th>\n",
       "      <th></th>\n",
       "      <th></th>\n",
       "      <th></th>\n",
       "      <th></th>\n",
       "    </tr>\n",
       "  </thead>\n",
       "  <tbody>\n",
       "    <tr>\n",
       "      <th>Afghanistan</th>\n",
       "      <td>36263</td>\n",
       "      <td>1269</td>\n",
       "      <td>25198</td>\n",
       "      <td>9796</td>\n",
       "      <td>106</td>\n",
       "      <td>10</td>\n",
       "      <td>18</td>\n",
       "      <td>3.50</td>\n",
       "      <td>69.49</td>\n",
       "      <td>5.04</td>\n",
       "      <td>35526</td>\n",
       "      <td>737</td>\n",
       "      <td>2.07</td>\n",
       "      <td>Eastern Mediterranean</td>\n",
       "    </tr>\n",
       "    <tr>\n",
       "      <th>Albania</th>\n",
       "      <td>4880</td>\n",
       "      <td>144</td>\n",
       "      <td>2745</td>\n",
       "      <td>1991</td>\n",
       "      <td>117</td>\n",
       "      <td>6</td>\n",
       "      <td>63</td>\n",
       "      <td>2.95</td>\n",
       "      <td>56.25</td>\n",
       "      <td>5.25</td>\n",
       "      <td>4171</td>\n",
       "      <td>709</td>\n",
       "      <td>17.00</td>\n",
       "      <td>Europe</td>\n",
       "    </tr>\n",
       "    <tr>\n",
       "      <th>Algeria</th>\n",
       "      <td>27973</td>\n",
       "      <td>1163</td>\n",
       "      <td>18837</td>\n",
       "      <td>7973</td>\n",
       "      <td>616</td>\n",
       "      <td>8</td>\n",
       "      <td>749</td>\n",
       "      <td>4.16</td>\n",
       "      <td>67.34</td>\n",
       "      <td>6.17</td>\n",
       "      <td>23691</td>\n",
       "      <td>4282</td>\n",
       "      <td>18.07</td>\n",
       "      <td>Africa</td>\n",
       "    </tr>\n",
       "    <tr>\n",
       "      <th>Andorra</th>\n",
       "      <td>907</td>\n",
       "      <td>52</td>\n",
       "      <td>803</td>\n",
       "      <td>52</td>\n",
       "      <td>10</td>\n",
       "      <td>0</td>\n",
       "      <td>0</td>\n",
       "      <td>5.73</td>\n",
       "      <td>88.53</td>\n",
       "      <td>6.48</td>\n",
       "      <td>884</td>\n",
       "      <td>23</td>\n",
       "      <td>2.60</td>\n",
       "      <td>Europe</td>\n",
       "    </tr>\n",
       "    <tr>\n",
       "      <th>Angola</th>\n",
       "      <td>950</td>\n",
       "      <td>41</td>\n",
       "      <td>242</td>\n",
       "      <td>667</td>\n",
       "      <td>18</td>\n",
       "      <td>1</td>\n",
       "      <td>0</td>\n",
       "      <td>4.32</td>\n",
       "      <td>25.47</td>\n",
       "      <td>16.94</td>\n",
       "      <td>749</td>\n",
       "      <td>201</td>\n",
       "      <td>26.84</td>\n",
       "      <td>Africa</td>\n",
       "    </tr>\n",
       "  </tbody>\n",
       "</table>\n",
       "</div>"
      ],
      "text/plain": [
       "                Confirmed  Deaths  Recovered  Active  New cases  New deaths  \\\n",
       "Country/Region                                                                \n",
       "Afghanistan         36263    1269      25198    9796        106          10   \n",
       "Albania              4880     144       2745    1991        117           6   \n",
       "Algeria             27973    1163      18837    7973        616           8   \n",
       "Andorra               907      52        803      52         10           0   \n",
       "Angola                950      41        242     667         18           1   \n",
       "\n",
       "                New recovered  Deaths / 100 Cases  Recovered / 100 Cases  \\\n",
       "Country/Region                                                             \n",
       "Afghanistan                18                3.50                  69.49   \n",
       "Albania                    63                2.95                  56.25   \n",
       "Algeria                   749                4.16                  67.34   \n",
       "Andorra                     0                5.73                  88.53   \n",
       "Angola                      0                4.32                  25.47   \n",
       "\n",
       "                Deaths / 100 Recovered  Confirmed last week  1 week change  \\\n",
       "Country/Region                                                               \n",
       "Afghanistan                       5.04                35526            737   \n",
       "Albania                           5.25                 4171            709   \n",
       "Algeria                           6.17                23691           4282   \n",
       "Andorra                           6.48                  884             23   \n",
       "Angola                           16.94                  749            201   \n",
       "\n",
       "                1 week % increase             WHO Region  \n",
       "Country/Region                                            \n",
       "Afghanistan                  2.07  Eastern Mediterranean  \n",
       "Albania                     17.00                 Europe  \n",
       "Algeria                     18.07                 Africa  \n",
       "Andorra                      2.60                 Europe  \n",
       "Angola                      26.84                 Africa  "
      ]
     },
     "execution_count": 3,
     "metadata": {},
     "output_type": "execute_result"
    }
   ],
   "source": [
    "df_country.head()"
   ]
  },
  {
   "cell_type": "code",
   "execution_count": 4,
   "id": "0024ae1c",
   "metadata": {
    "execution": {
     "iopub.execute_input": "2023-02-14T14:47:28.925984Z",
     "iopub.status.busy": "2023-02-14T14:47:28.925506Z",
     "iopub.status.idle": "2023-02-14T14:47:28.942218Z",
     "shell.execute_reply": "2023-02-14T14:47:28.940865Z"
    },
    "papermill": {
     "duration": 0.039809,
     "end_time": "2023-02-14T14:47:28.945118",
     "exception": false,
     "start_time": "2023-02-14T14:47:28.905309",
     "status": "completed"
    },
    "tags": []
   },
   "outputs": [
    {
     "data": {
      "text/html": [
       "<div>\n",
       "<style scoped>\n",
       "    .dataframe tbody tr th:only-of-type {\n",
       "        vertical-align: middle;\n",
       "    }\n",
       "\n",
       "    .dataframe tbody tr th {\n",
       "        vertical-align: top;\n",
       "    }\n",
       "\n",
       "    .dataframe thead th {\n",
       "        text-align: right;\n",
       "    }\n",
       "</style>\n",
       "<table border=\"1\" class=\"dataframe\">\n",
       "  <thead>\n",
       "    <tr style=\"text-align: right;\">\n",
       "      <th></th>\n",
       "      <th>Country/Region</th>\n",
       "      <th>Lat</th>\n",
       "      <th>Long</th>\n",
       "      <th>Date</th>\n",
       "      <th>Confirmed</th>\n",
       "      <th>Deaths</th>\n",
       "      <th>Recovered</th>\n",
       "      <th>Active</th>\n",
       "      <th>WHO Region</th>\n",
       "    </tr>\n",
       "    <tr>\n",
       "      <th>Province/State</th>\n",
       "      <th></th>\n",
       "      <th></th>\n",
       "      <th></th>\n",
       "      <th></th>\n",
       "      <th></th>\n",
       "      <th></th>\n",
       "      <th></th>\n",
       "      <th></th>\n",
       "      <th></th>\n",
       "    </tr>\n",
       "  </thead>\n",
       "  <tbody>\n",
       "    <tr>\n",
       "      <th>NaN</th>\n",
       "      <td>Afghanistan</td>\n",
       "      <td>33.93911</td>\n",
       "      <td>67.709953</td>\n",
       "      <td>2020-01-22</td>\n",
       "      <td>0</td>\n",
       "      <td>0</td>\n",
       "      <td>0</td>\n",
       "      <td>0</td>\n",
       "      <td>Eastern Mediterranean</td>\n",
       "    </tr>\n",
       "    <tr>\n",
       "      <th>NaN</th>\n",
       "      <td>Albania</td>\n",
       "      <td>41.15330</td>\n",
       "      <td>20.168300</td>\n",
       "      <td>2020-01-22</td>\n",
       "      <td>0</td>\n",
       "      <td>0</td>\n",
       "      <td>0</td>\n",
       "      <td>0</td>\n",
       "      <td>Europe</td>\n",
       "    </tr>\n",
       "    <tr>\n",
       "      <th>NaN</th>\n",
       "      <td>Algeria</td>\n",
       "      <td>28.03390</td>\n",
       "      <td>1.659600</td>\n",
       "      <td>2020-01-22</td>\n",
       "      <td>0</td>\n",
       "      <td>0</td>\n",
       "      <td>0</td>\n",
       "      <td>0</td>\n",
       "      <td>Africa</td>\n",
       "    </tr>\n",
       "    <tr>\n",
       "      <th>NaN</th>\n",
       "      <td>Andorra</td>\n",
       "      <td>42.50630</td>\n",
       "      <td>1.521800</td>\n",
       "      <td>2020-01-22</td>\n",
       "      <td>0</td>\n",
       "      <td>0</td>\n",
       "      <td>0</td>\n",
       "      <td>0</td>\n",
       "      <td>Europe</td>\n",
       "    </tr>\n",
       "    <tr>\n",
       "      <th>NaN</th>\n",
       "      <td>Angola</td>\n",
       "      <td>-11.20270</td>\n",
       "      <td>17.873900</td>\n",
       "      <td>2020-01-22</td>\n",
       "      <td>0</td>\n",
       "      <td>0</td>\n",
       "      <td>0</td>\n",
       "      <td>0</td>\n",
       "      <td>Africa</td>\n",
       "    </tr>\n",
       "  </tbody>\n",
       "</table>\n",
       "</div>"
      ],
      "text/plain": [
       "               Country/Region       Lat       Long        Date  Confirmed  \\\n",
       "Province/State                                                              \n",
       "NaN               Afghanistan  33.93911  67.709953  2020-01-22          0   \n",
       "NaN                   Albania  41.15330  20.168300  2020-01-22          0   \n",
       "NaN                   Algeria  28.03390   1.659600  2020-01-22          0   \n",
       "NaN                   Andorra  42.50630   1.521800  2020-01-22          0   \n",
       "NaN                    Angola -11.20270  17.873900  2020-01-22          0   \n",
       "\n",
       "                Deaths  Recovered  Active             WHO Region  \n",
       "Province/State                                                    \n",
       "NaN                  0          0       0  Eastern Mediterranean  \n",
       "NaN                  0          0       0                 Europe  \n",
       "NaN                  0          0       0                 Africa  \n",
       "NaN                  0          0       0                 Europe  \n",
       "NaN                  0          0       0                 Africa  "
      ]
     },
     "execution_count": 4,
     "metadata": {},
     "output_type": "execute_result"
    }
   ],
   "source": [
    "df_complete.head()"
   ]
  },
  {
   "cell_type": "code",
   "execution_count": 5,
   "id": "126f9902",
   "metadata": {
    "execution": {
     "iopub.execute_input": "2023-02-14T14:47:28.984245Z",
     "iopub.status.busy": "2023-02-14T14:47:28.983777Z",
     "iopub.status.idle": "2023-02-14T14:47:29.001037Z",
     "shell.execute_reply": "2023-02-14T14:47:28.999674Z"
    },
    "papermill": {
     "duration": 0.040808,
     "end_time": "2023-02-14T14:47:29.004565",
     "exception": false,
     "start_time": "2023-02-14T14:47:28.963757",
     "status": "completed"
    },
    "tags": []
   },
   "outputs": [
    {
     "data": {
      "text/html": [
       "<div>\n",
       "<style scoped>\n",
       "    .dataframe tbody tr th:only-of-type {\n",
       "        vertical-align: middle;\n",
       "    }\n",
       "\n",
       "    .dataframe tbody tr th {\n",
       "        vertical-align: top;\n",
       "    }\n",
       "\n",
       "    .dataframe thead th {\n",
       "        text-align: right;\n",
       "    }\n",
       "</style>\n",
       "<table border=\"1\" class=\"dataframe\">\n",
       "  <thead>\n",
       "    <tr style=\"text-align: right;\">\n",
       "      <th></th>\n",
       "      <th>Confirmed</th>\n",
       "      <th>Deaths</th>\n",
       "      <th>Recovered</th>\n",
       "      <th>Active</th>\n",
       "      <th>New cases</th>\n",
       "      <th>New deaths</th>\n",
       "      <th>New recovered</th>\n",
       "      <th>Deaths / 100 Cases</th>\n",
       "      <th>Recovered / 100 Cases</th>\n",
       "      <th>Deaths / 100 Recovered</th>\n",
       "      <th>No. of countries</th>\n",
       "    </tr>\n",
       "    <tr>\n",
       "      <th>Date</th>\n",
       "      <th></th>\n",
       "      <th></th>\n",
       "      <th></th>\n",
       "      <th></th>\n",
       "      <th></th>\n",
       "      <th></th>\n",
       "      <th></th>\n",
       "      <th></th>\n",
       "      <th></th>\n",
       "      <th></th>\n",
       "      <th></th>\n",
       "    </tr>\n",
       "  </thead>\n",
       "  <tbody>\n",
       "    <tr>\n",
       "      <th>2020-01-22</th>\n",
       "      <td>555</td>\n",
       "      <td>17</td>\n",
       "      <td>28</td>\n",
       "      <td>510</td>\n",
       "      <td>0</td>\n",
       "      <td>0</td>\n",
       "      <td>0</td>\n",
       "      <td>3.06</td>\n",
       "      <td>5.05</td>\n",
       "      <td>60.71</td>\n",
       "      <td>6</td>\n",
       "    </tr>\n",
       "    <tr>\n",
       "      <th>2020-01-23</th>\n",
       "      <td>654</td>\n",
       "      <td>18</td>\n",
       "      <td>30</td>\n",
       "      <td>606</td>\n",
       "      <td>99</td>\n",
       "      <td>1</td>\n",
       "      <td>2</td>\n",
       "      <td>2.75</td>\n",
       "      <td>4.59</td>\n",
       "      <td>60.00</td>\n",
       "      <td>8</td>\n",
       "    </tr>\n",
       "    <tr>\n",
       "      <th>2020-01-24</th>\n",
       "      <td>941</td>\n",
       "      <td>26</td>\n",
       "      <td>36</td>\n",
       "      <td>879</td>\n",
       "      <td>287</td>\n",
       "      <td>8</td>\n",
       "      <td>6</td>\n",
       "      <td>2.76</td>\n",
       "      <td>3.83</td>\n",
       "      <td>72.22</td>\n",
       "      <td>9</td>\n",
       "    </tr>\n",
       "    <tr>\n",
       "      <th>2020-01-25</th>\n",
       "      <td>1434</td>\n",
       "      <td>42</td>\n",
       "      <td>39</td>\n",
       "      <td>1353</td>\n",
       "      <td>493</td>\n",
       "      <td>16</td>\n",
       "      <td>3</td>\n",
       "      <td>2.93</td>\n",
       "      <td>2.72</td>\n",
       "      <td>107.69</td>\n",
       "      <td>11</td>\n",
       "    </tr>\n",
       "    <tr>\n",
       "      <th>2020-01-26</th>\n",
       "      <td>2118</td>\n",
       "      <td>56</td>\n",
       "      <td>52</td>\n",
       "      <td>2010</td>\n",
       "      <td>684</td>\n",
       "      <td>14</td>\n",
       "      <td>13</td>\n",
       "      <td>2.64</td>\n",
       "      <td>2.46</td>\n",
       "      <td>107.69</td>\n",
       "      <td>13</td>\n",
       "    </tr>\n",
       "  </tbody>\n",
       "</table>\n",
       "</div>"
      ],
      "text/plain": [
       "            Confirmed  Deaths  Recovered  Active  New cases  New deaths  \\\n",
       "Date                                                                      \n",
       "2020-01-22        555      17         28     510          0           0   \n",
       "2020-01-23        654      18         30     606         99           1   \n",
       "2020-01-24        941      26         36     879        287           8   \n",
       "2020-01-25       1434      42         39    1353        493          16   \n",
       "2020-01-26       2118      56         52    2010        684          14   \n",
       "\n",
       "            New recovered  Deaths / 100 Cases  Recovered / 100 Cases  \\\n",
       "Date                                                                   \n",
       "2020-01-22              0                3.06                   5.05   \n",
       "2020-01-23              2                2.75                   4.59   \n",
       "2020-01-24              6                2.76                   3.83   \n",
       "2020-01-25              3                2.93                   2.72   \n",
       "2020-01-26             13                2.64                   2.46   \n",
       "\n",
       "            Deaths / 100 Recovered  No. of countries  \n",
       "Date                                                  \n",
       "2020-01-22                   60.71                 6  \n",
       "2020-01-23                   60.00                 8  \n",
       "2020-01-24                   72.22                 9  \n",
       "2020-01-25                  107.69                11  \n",
       "2020-01-26                  107.69                13  "
      ]
     },
     "execution_count": 5,
     "metadata": {},
     "output_type": "execute_result"
    }
   ],
   "source": [
    "df_daywise.head()"
   ]
  },
  {
   "cell_type": "code",
   "execution_count": 6,
   "id": "3dbb710d",
   "metadata": {
    "execution": {
     "iopub.execute_input": "2023-02-14T14:47:29.044780Z",
     "iopub.status.busy": "2023-02-14T14:47:29.044272Z",
     "iopub.status.idle": "2023-02-14T14:47:29.071120Z",
     "shell.execute_reply": "2023-02-14T14:47:29.069909Z"
    },
    "papermill": {
     "duration": 0.049952,
     "end_time": "2023-02-14T14:47:29.073813",
     "exception": false,
     "start_time": "2023-02-14T14:47:29.023861",
     "status": "completed"
    },
    "scrolled": true,
    "tags": []
   },
   "outputs": [
    {
     "data": {
      "text/html": [
       "<div>\n",
       "<style scoped>\n",
       "    .dataframe tbody tr th:only-of-type {\n",
       "        vertical-align: middle;\n",
       "    }\n",
       "\n",
       "    .dataframe tbody tr th {\n",
       "        vertical-align: top;\n",
       "    }\n",
       "\n",
       "    .dataframe thead th {\n",
       "        text-align: right;\n",
       "    }\n",
       "</style>\n",
       "<table border=\"1\" class=\"dataframe\">\n",
       "  <thead>\n",
       "    <tr style=\"text-align: right;\">\n",
       "      <th></th>\n",
       "      <th>Continent</th>\n",
       "      <th>Population</th>\n",
       "      <th>TotalCases</th>\n",
       "      <th>NewCases</th>\n",
       "      <th>TotalDeaths</th>\n",
       "      <th>NewDeaths</th>\n",
       "      <th>TotalRecovered</th>\n",
       "      <th>NewRecovered</th>\n",
       "      <th>ActiveCases</th>\n",
       "      <th>Serious,Critical</th>\n",
       "      <th>Tot Cases/1M pop</th>\n",
       "      <th>Deaths/1M pop</th>\n",
       "      <th>TotalTests</th>\n",
       "      <th>Tests/1M pop</th>\n",
       "      <th>WHO Region</th>\n",
       "    </tr>\n",
       "    <tr>\n",
       "      <th>Country/Region</th>\n",
       "      <th></th>\n",
       "      <th></th>\n",
       "      <th></th>\n",
       "      <th></th>\n",
       "      <th></th>\n",
       "      <th></th>\n",
       "      <th></th>\n",
       "      <th></th>\n",
       "      <th></th>\n",
       "      <th></th>\n",
       "      <th></th>\n",
       "      <th></th>\n",
       "      <th></th>\n",
       "      <th></th>\n",
       "      <th></th>\n",
       "    </tr>\n",
       "  </thead>\n",
       "  <tbody>\n",
       "    <tr>\n",
       "      <th>USA</th>\n",
       "      <td>North America</td>\n",
       "      <td>3.311981e+08</td>\n",
       "      <td>5032179</td>\n",
       "      <td>NaN</td>\n",
       "      <td>162804.0</td>\n",
       "      <td>NaN</td>\n",
       "      <td>2576668.0</td>\n",
       "      <td>NaN</td>\n",
       "      <td>2292707.0</td>\n",
       "      <td>18296.0</td>\n",
       "      <td>15194.0</td>\n",
       "      <td>492.0</td>\n",
       "      <td>63139605.0</td>\n",
       "      <td>190640.0</td>\n",
       "      <td>Americas</td>\n",
       "    </tr>\n",
       "    <tr>\n",
       "      <th>Brazil</th>\n",
       "      <td>South America</td>\n",
       "      <td>2.127107e+08</td>\n",
       "      <td>2917562</td>\n",
       "      <td>NaN</td>\n",
       "      <td>98644.0</td>\n",
       "      <td>NaN</td>\n",
       "      <td>2047660.0</td>\n",
       "      <td>NaN</td>\n",
       "      <td>771258.0</td>\n",
       "      <td>8318.0</td>\n",
       "      <td>13716.0</td>\n",
       "      <td>464.0</td>\n",
       "      <td>13206188.0</td>\n",
       "      <td>62085.0</td>\n",
       "      <td>Americas</td>\n",
       "    </tr>\n",
       "    <tr>\n",
       "      <th>India</th>\n",
       "      <td>Asia</td>\n",
       "      <td>1.381345e+09</td>\n",
       "      <td>2025409</td>\n",
       "      <td>NaN</td>\n",
       "      <td>41638.0</td>\n",
       "      <td>NaN</td>\n",
       "      <td>1377384.0</td>\n",
       "      <td>NaN</td>\n",
       "      <td>606387.0</td>\n",
       "      <td>8944.0</td>\n",
       "      <td>1466.0</td>\n",
       "      <td>30.0</td>\n",
       "      <td>22149351.0</td>\n",
       "      <td>16035.0</td>\n",
       "      <td>South-EastAsia</td>\n",
       "    </tr>\n",
       "    <tr>\n",
       "      <th>Russia</th>\n",
       "      <td>Europe</td>\n",
       "      <td>1.459409e+08</td>\n",
       "      <td>871894</td>\n",
       "      <td>NaN</td>\n",
       "      <td>14606.0</td>\n",
       "      <td>NaN</td>\n",
       "      <td>676357.0</td>\n",
       "      <td>NaN</td>\n",
       "      <td>180931.0</td>\n",
       "      <td>2300.0</td>\n",
       "      <td>5974.0</td>\n",
       "      <td>100.0</td>\n",
       "      <td>29716907.0</td>\n",
       "      <td>203623.0</td>\n",
       "      <td>Europe</td>\n",
       "    </tr>\n",
       "    <tr>\n",
       "      <th>South Africa</th>\n",
       "      <td>Africa</td>\n",
       "      <td>5.938157e+07</td>\n",
       "      <td>538184</td>\n",
       "      <td>NaN</td>\n",
       "      <td>9604.0</td>\n",
       "      <td>NaN</td>\n",
       "      <td>387316.0</td>\n",
       "      <td>NaN</td>\n",
       "      <td>141264.0</td>\n",
       "      <td>539.0</td>\n",
       "      <td>9063.0</td>\n",
       "      <td>162.0</td>\n",
       "      <td>3149807.0</td>\n",
       "      <td>53044.0</td>\n",
       "      <td>Africa</td>\n",
       "    </tr>\n",
       "  </tbody>\n",
       "</table>\n",
       "</div>"
      ],
      "text/plain": [
       "                    Continent    Population  TotalCases  NewCases  \\\n",
       "Country/Region                                                      \n",
       "USA             North America  3.311981e+08     5032179       NaN   \n",
       "Brazil          South America  2.127107e+08     2917562       NaN   \n",
       "India                    Asia  1.381345e+09     2025409       NaN   \n",
       "Russia                 Europe  1.459409e+08      871894       NaN   \n",
       "South Africa           Africa  5.938157e+07      538184       NaN   \n",
       "\n",
       "                TotalDeaths  NewDeaths  TotalRecovered  NewRecovered  \\\n",
       "Country/Region                                                         \n",
       "USA                162804.0        NaN       2576668.0           NaN   \n",
       "Brazil              98644.0        NaN       2047660.0           NaN   \n",
       "India               41638.0        NaN       1377384.0           NaN   \n",
       "Russia              14606.0        NaN        676357.0           NaN   \n",
       "South Africa         9604.0        NaN        387316.0           NaN   \n",
       "\n",
       "                ActiveCases  Serious,Critical  Tot Cases/1M pop  \\\n",
       "Country/Region                                                    \n",
       "USA               2292707.0           18296.0           15194.0   \n",
       "Brazil             771258.0            8318.0           13716.0   \n",
       "India              606387.0            8944.0            1466.0   \n",
       "Russia             180931.0            2300.0            5974.0   \n",
       "South Africa       141264.0             539.0            9063.0   \n",
       "\n",
       "                Deaths/1M pop  TotalTests  Tests/1M pop      WHO Region  \n",
       "Country/Region                                                           \n",
       "USA                     492.0  63139605.0      190640.0        Americas  \n",
       "Brazil                  464.0  13206188.0       62085.0        Americas  \n",
       "India                    30.0  22149351.0       16035.0  South-EastAsia  \n",
       "Russia                  100.0  29716907.0      203623.0          Europe  \n",
       "South Africa            162.0   3149807.0       53044.0          Africa  "
      ]
     },
     "execution_count": 6,
     "metadata": {},
     "output_type": "execute_result"
    }
   ],
   "source": [
    "df_world.head()"
   ]
  },
  {
   "cell_type": "markdown",
   "id": "95804100",
   "metadata": {
    "papermill": {
     "duration": 0.018791,
     "end_time": "2023-02-14T14:47:29.111995",
     "exception": false,
     "start_time": "2023-02-14T14:47:29.093204",
     "status": "completed"
    },
    "tags": []
   },
   "source": [
    "# Check info"
   ]
  },
  {
   "cell_type": "code",
   "execution_count": 7,
   "id": "e267fb88",
   "metadata": {
    "execution": {
     "iopub.execute_input": "2023-02-14T14:47:29.154553Z",
     "iopub.status.busy": "2023-02-14T14:47:29.154050Z",
     "iopub.status.idle": "2023-02-14T14:47:29.176421Z",
     "shell.execute_reply": "2023-02-14T14:47:29.175355Z"
    },
    "papermill": {
     "duration": 0.047218,
     "end_time": "2023-02-14T14:47:29.179481",
     "exception": false,
     "start_time": "2023-02-14T14:47:29.132263",
     "status": "completed"
    },
    "tags": []
   },
   "outputs": [
    {
     "name": "stdout",
     "output_type": "stream",
     "text": [
      "<class 'pandas.core.frame.DataFrame'>\n",
      "Index: 187 entries, Afghanistan to Zimbabwe\n",
      "Data columns (total 14 columns):\n",
      " #   Column                  Non-Null Count  Dtype  \n",
      "---  ------                  --------------  -----  \n",
      " 0   Confirmed               187 non-null    int64  \n",
      " 1   Deaths                  187 non-null    int64  \n",
      " 2   Recovered               187 non-null    int64  \n",
      " 3   Active                  187 non-null    int64  \n",
      " 4   New cases               187 non-null    int64  \n",
      " 5   New deaths              187 non-null    int64  \n",
      " 6   New recovered           187 non-null    int64  \n",
      " 7   Deaths / 100 Cases      187 non-null    float64\n",
      " 8   Recovered / 100 Cases   187 non-null    float64\n",
      " 9   Deaths / 100 Recovered  187 non-null    float64\n",
      " 10  Confirmed last week     187 non-null    int64  \n",
      " 11  1 week change           187 non-null    int64  \n",
      " 12  1 week % increase       187 non-null    float64\n",
      " 13  WHO Region              187 non-null    object \n",
      "dtypes: float64(4), int64(9), object(1)\n",
      "memory usage: 21.9+ KB\n"
     ]
    }
   ],
   "source": [
    "df_country.info()"
   ]
  },
  {
   "cell_type": "code",
   "execution_count": 8,
   "id": "7117513a",
   "metadata": {
    "execution": {
     "iopub.execute_input": "2023-02-14T14:47:29.221259Z",
     "iopub.status.busy": "2023-02-14T14:47:29.220035Z",
     "iopub.status.idle": "2023-02-14T14:47:29.243410Z",
     "shell.execute_reply": "2023-02-14T14:47:29.242477Z"
    },
    "papermill": {
     "duration": 0.046583,
     "end_time": "2023-02-14T14:47:29.245820",
     "exception": false,
     "start_time": "2023-02-14T14:47:29.199237",
     "status": "completed"
    },
    "tags": []
   },
   "outputs": [
    {
     "name": "stdout",
     "output_type": "stream",
     "text": [
      "<class 'pandas.core.frame.DataFrame'>\n",
      "Index: 49068 entries, nan to nan\n",
      "Data columns (total 9 columns):\n",
      " #   Column          Non-Null Count  Dtype  \n",
      "---  ------          --------------  -----  \n",
      " 0   Country/Region  49068 non-null  object \n",
      " 1   Lat             49068 non-null  float64\n",
      " 2   Long            49068 non-null  float64\n",
      " 3   Date            49068 non-null  object \n",
      " 4   Confirmed       49068 non-null  int64  \n",
      " 5   Deaths          49068 non-null  int64  \n",
      " 6   Recovered       49068 non-null  int64  \n",
      " 7   Active          49068 non-null  int64  \n",
      " 8   WHO Region      49068 non-null  object \n",
      "dtypes: float64(2), int64(4), object(3)\n",
      "memory usage: 3.7+ MB\n"
     ]
    }
   ],
   "source": [
    "df_complete.info()"
   ]
  },
  {
   "cell_type": "code",
   "execution_count": 9,
   "id": "a7b8395a",
   "metadata": {
    "execution": {
     "iopub.execute_input": "2023-02-14T14:47:29.286741Z",
     "iopub.status.busy": "2023-02-14T14:47:29.286229Z",
     "iopub.status.idle": "2023-02-14T14:47:29.300554Z",
     "shell.execute_reply": "2023-02-14T14:47:29.299581Z"
    },
    "papermill": {
     "duration": 0.039423,
     "end_time": "2023-02-14T14:47:29.304532",
     "exception": false,
     "start_time": "2023-02-14T14:47:29.265109",
     "status": "completed"
    },
    "tags": []
   },
   "outputs": [
    {
     "name": "stdout",
     "output_type": "stream",
     "text": [
      "<class 'pandas.core.frame.DataFrame'>\n",
      "Index: 188 entries, 2020-01-22 to 2020-07-27\n",
      "Data columns (total 11 columns):\n",
      " #   Column                  Non-Null Count  Dtype  \n",
      "---  ------                  --------------  -----  \n",
      " 0   Confirmed               188 non-null    int64  \n",
      " 1   Deaths                  188 non-null    int64  \n",
      " 2   Recovered               188 non-null    int64  \n",
      " 3   Active                  188 non-null    int64  \n",
      " 4   New cases               188 non-null    int64  \n",
      " 5   New deaths              188 non-null    int64  \n",
      " 6   New recovered           188 non-null    int64  \n",
      " 7   Deaths / 100 Cases      188 non-null    float64\n",
      " 8   Recovered / 100 Cases   188 non-null    float64\n",
      " 9   Deaths / 100 Recovered  188 non-null    float64\n",
      " 10  No. of countries        188 non-null    int64  \n",
      "dtypes: float64(3), int64(8)\n",
      "memory usage: 17.6+ KB\n"
     ]
    }
   ],
   "source": [
    "df_daywise.info()"
   ]
  },
  {
   "cell_type": "code",
   "execution_count": 10,
   "id": "7e6a810c",
   "metadata": {
    "execution": {
     "iopub.execute_input": "2023-02-14T14:47:29.346234Z",
     "iopub.status.busy": "2023-02-14T14:47:29.345746Z",
     "iopub.status.idle": "2023-02-14T14:47:29.362010Z",
     "shell.execute_reply": "2023-02-14T14:47:29.360406Z"
    },
    "papermill": {
     "duration": 0.041271,
     "end_time": "2023-02-14T14:47:29.365453",
     "exception": false,
     "start_time": "2023-02-14T14:47:29.324182",
     "status": "completed"
    },
    "tags": []
   },
   "outputs": [
    {
     "name": "stdout",
     "output_type": "stream",
     "text": [
      "<class 'pandas.core.frame.DataFrame'>\n",
      "Index: 209 entries, USA to Western Sahara\n",
      "Data columns (total 15 columns):\n",
      " #   Column            Non-Null Count  Dtype  \n",
      "---  ------            --------------  -----  \n",
      " 0   Continent         208 non-null    object \n",
      " 1   Population        208 non-null    float64\n",
      " 2   TotalCases        209 non-null    int64  \n",
      " 3   NewCases          4 non-null      float64\n",
      " 4   TotalDeaths       188 non-null    float64\n",
      " 5   NewDeaths         3 non-null      float64\n",
      " 6   TotalRecovered    205 non-null    float64\n",
      " 7   NewRecovered      3 non-null      float64\n",
      " 8   ActiveCases       205 non-null    float64\n",
      " 9   Serious,Critical  122 non-null    float64\n",
      " 10  Tot Cases/1M pop  208 non-null    float64\n",
      " 11  Deaths/1M pop     187 non-null    float64\n",
      " 12  TotalTests        191 non-null    float64\n",
      " 13  Tests/1M pop      191 non-null    float64\n",
      " 14  WHO Region        184 non-null    object \n",
      "dtypes: float64(12), int64(1), object(2)\n",
      "memory usage: 26.1+ KB\n"
     ]
    }
   ],
   "source": [
    "df_world.info()"
   ]
  },
  {
   "cell_type": "markdown",
   "id": "b1248ea9",
   "metadata": {
    "papermill": {
     "duration": 0.018929,
     "end_time": "2023-02-14T14:47:29.404613",
     "exception": false,
     "start_time": "2023-02-14T14:47:29.385684",
     "status": "completed"
    },
    "tags": []
   },
   "source": [
    "# Check for null values"
   ]
  },
  {
   "cell_type": "code",
   "execution_count": 11,
   "id": "85409900",
   "metadata": {
    "execution": {
     "iopub.execute_input": "2023-02-14T14:47:29.447436Z",
     "iopub.status.busy": "2023-02-14T14:47:29.446892Z",
     "iopub.status.idle": "2023-02-14T14:47:29.458587Z",
     "shell.execute_reply": "2023-02-14T14:47:29.457019Z"
    },
    "papermill": {
     "duration": 0.035608,
     "end_time": "2023-02-14T14:47:29.461257",
     "exception": false,
     "start_time": "2023-02-14T14:47:29.425649",
     "status": "completed"
    },
    "scrolled": true,
    "tags": []
   },
   "outputs": [
    {
     "data": {
      "text/plain": [
       "Confirmed                 0\n",
       "Deaths                    0\n",
       "Recovered                 0\n",
       "Active                    0\n",
       "New cases                 0\n",
       "New deaths                0\n",
       "New recovered             0\n",
       "Deaths / 100 Cases        0\n",
       "Recovered / 100 Cases     0\n",
       "Deaths / 100 Recovered    0\n",
       "Confirmed last week       0\n",
       "1 week change             0\n",
       "1 week % increase         0\n",
       "WHO Region                0\n",
       "dtype: int64"
      ]
     },
     "execution_count": 11,
     "metadata": {},
     "output_type": "execute_result"
    }
   ],
   "source": [
    "df_country.isnull().sum()"
   ]
  },
  {
   "cell_type": "code",
   "execution_count": 12,
   "id": "e6398512",
   "metadata": {
    "execution": {
     "iopub.execute_input": "2023-02-14T14:47:29.504353Z",
     "iopub.status.busy": "2023-02-14T14:47:29.503832Z",
     "iopub.status.idle": "2023-02-14T14:47:29.522712Z",
     "shell.execute_reply": "2023-02-14T14:47:29.521385Z"
    },
    "papermill": {
     "duration": 0.043662,
     "end_time": "2023-02-14T14:47:29.525497",
     "exception": false,
     "start_time": "2023-02-14T14:47:29.481835",
     "status": "completed"
    },
    "scrolled": true,
    "tags": []
   },
   "outputs": [
    {
     "data": {
      "text/plain": [
       "Country/Region    0\n",
       "Lat               0\n",
       "Long              0\n",
       "Date              0\n",
       "Confirmed         0\n",
       "Deaths            0\n",
       "Recovered         0\n",
       "Active            0\n",
       "WHO Region        0\n",
       "dtype: int64"
      ]
     },
     "execution_count": 12,
     "metadata": {},
     "output_type": "execute_result"
    }
   ],
   "source": [
    "df_complete.isnull().sum()"
   ]
  },
  {
   "cell_type": "code",
   "execution_count": 13,
   "id": "cad19915",
   "metadata": {
    "execution": {
     "iopub.execute_input": "2023-02-14T14:47:29.568184Z",
     "iopub.status.busy": "2023-02-14T14:47:29.567685Z",
     "iopub.status.idle": "2023-02-14T14:47:29.577742Z",
     "shell.execute_reply": "2023-02-14T14:47:29.576439Z"
    },
    "papermill": {
     "duration": 0.034705,
     "end_time": "2023-02-14T14:47:29.580336",
     "exception": false,
     "start_time": "2023-02-14T14:47:29.545631",
     "status": "completed"
    },
    "scrolled": true,
    "tags": []
   },
   "outputs": [
    {
     "data": {
      "text/plain": [
       "Confirmed                 0\n",
       "Deaths                    0\n",
       "Recovered                 0\n",
       "Active                    0\n",
       "New cases                 0\n",
       "New deaths                0\n",
       "New recovered             0\n",
       "Deaths / 100 Cases        0\n",
       "Recovered / 100 Cases     0\n",
       "Deaths / 100 Recovered    0\n",
       "No. of countries          0\n",
       "dtype: int64"
      ]
     },
     "execution_count": 13,
     "metadata": {},
     "output_type": "execute_result"
    }
   ],
   "source": [
    "df_daywise.isnull().sum()"
   ]
  },
  {
   "cell_type": "code",
   "execution_count": 14,
   "id": "ae495ac5",
   "metadata": {
    "execution": {
     "iopub.execute_input": "2023-02-14T14:47:29.622161Z",
     "iopub.status.busy": "2023-02-14T14:47:29.621695Z",
     "iopub.status.idle": "2023-02-14T14:47:29.632242Z",
     "shell.execute_reply": "2023-02-14T14:47:29.631028Z"
    },
    "papermill": {
     "duration": 0.034531,
     "end_time": "2023-02-14T14:47:29.634592",
     "exception": false,
     "start_time": "2023-02-14T14:47:29.600061",
     "status": "completed"
    },
    "tags": []
   },
   "outputs": [
    {
     "data": {
      "text/plain": [
       "Continent             1\n",
       "Population            1\n",
       "TotalCases            0\n",
       "NewCases            205\n",
       "TotalDeaths          21\n",
       "NewDeaths           206\n",
       "TotalRecovered        4\n",
       "NewRecovered        206\n",
       "ActiveCases           4\n",
       "Serious,Critical     87\n",
       "Tot Cases/1M pop      1\n",
       "Deaths/1M pop        22\n",
       "TotalTests           18\n",
       "Tests/1M pop         18\n",
       "WHO Region           25\n",
       "dtype: int64"
      ]
     },
     "execution_count": 14,
     "metadata": {},
     "output_type": "execute_result"
    }
   ],
   "source": [
    "df_world.isnull().sum()"
   ]
  },
  {
   "cell_type": "markdown",
   "id": "422749d4",
   "metadata": {
    "papermill": {
     "duration": 0.019003,
     "end_time": "2023-02-14T14:47:29.673233",
     "exception": false,
     "start_time": "2023-02-14T14:47:29.654230",
     "status": "completed"
    },
    "tags": []
   },
   "source": [
    "# EDA"
   ]
  },
  {
   "cell_type": "markdown",
   "id": "7182194c",
   "metadata": {
    "papermill": {
     "duration": 0.018801,
     "end_time": "2023-02-14T14:47:29.711070",
     "exception": false,
     "start_time": "2023-02-14T14:47:29.692269",
     "status": "completed"
    },
    "tags": []
   },
   "source": [
    "## 1. Cleaning country data"
   ]
  },
  {
   "cell_type": "code",
   "execution_count": 15,
   "id": "8a2e3659",
   "metadata": {
    "execution": {
     "iopub.execute_input": "2023-02-14T14:47:29.751123Z",
     "iopub.status.busy": "2023-02-14T14:47:29.750723Z",
     "iopub.status.idle": "2023-02-14T14:47:29.769084Z",
     "shell.execute_reply": "2023-02-14T14:47:29.767804Z"
    },
    "papermill": {
     "duration": 0.041152,
     "end_time": "2023-02-14T14:47:29.771384",
     "exception": false,
     "start_time": "2023-02-14T14:47:29.730232",
     "status": "completed"
    },
    "tags": []
   },
   "outputs": [
    {
     "data": {
      "text/html": [
       "<div>\n",
       "<style scoped>\n",
       "    .dataframe tbody tr th:only-of-type {\n",
       "        vertical-align: middle;\n",
       "    }\n",
       "\n",
       "    .dataframe tbody tr th {\n",
       "        vertical-align: top;\n",
       "    }\n",
       "\n",
       "    .dataframe thead th {\n",
       "        text-align: right;\n",
       "    }\n",
       "</style>\n",
       "<table border=\"1\" class=\"dataframe\">\n",
       "  <thead>\n",
       "    <tr style=\"text-align: right;\">\n",
       "      <th></th>\n",
       "      <th>Confirmed</th>\n",
       "      <th>Deaths</th>\n",
       "      <th>Recovered</th>\n",
       "      <th>Active</th>\n",
       "      <th>New cases</th>\n",
       "      <th>New deaths</th>\n",
       "      <th>New recovered</th>\n",
       "      <th>Deaths / 100 Cases</th>\n",
       "      <th>Recovered / 100 Cases</th>\n",
       "      <th>Deaths / 100 Recovered</th>\n",
       "      <th>Confirmed last week</th>\n",
       "      <th>1 week change</th>\n",
       "      <th>1 week % increase</th>\n",
       "      <th>WHO Region</th>\n",
       "    </tr>\n",
       "    <tr>\n",
       "      <th>Country/Region</th>\n",
       "      <th></th>\n",
       "      <th></th>\n",
       "      <th></th>\n",
       "      <th></th>\n",
       "      <th></th>\n",
       "      <th></th>\n",
       "      <th></th>\n",
       "      <th></th>\n",
       "      <th></th>\n",
       "      <th></th>\n",
       "      <th></th>\n",
       "      <th></th>\n",
       "      <th></th>\n",
       "      <th></th>\n",
       "    </tr>\n",
       "  </thead>\n",
       "  <tbody>\n",
       "    <tr>\n",
       "      <th>Afghanistan</th>\n",
       "      <td>36263</td>\n",
       "      <td>1269</td>\n",
       "      <td>25198</td>\n",
       "      <td>9796</td>\n",
       "      <td>106</td>\n",
       "      <td>10</td>\n",
       "      <td>18</td>\n",
       "      <td>3.50</td>\n",
       "      <td>69.49</td>\n",
       "      <td>5.04</td>\n",
       "      <td>35526</td>\n",
       "      <td>737</td>\n",
       "      <td>2.07</td>\n",
       "      <td>Eastern Mediterranean</td>\n",
       "    </tr>\n",
       "    <tr>\n",
       "      <th>Albania</th>\n",
       "      <td>4880</td>\n",
       "      <td>144</td>\n",
       "      <td>2745</td>\n",
       "      <td>1991</td>\n",
       "      <td>117</td>\n",
       "      <td>6</td>\n",
       "      <td>63</td>\n",
       "      <td>2.95</td>\n",
       "      <td>56.25</td>\n",
       "      <td>5.25</td>\n",
       "      <td>4171</td>\n",
       "      <td>709</td>\n",
       "      <td>17.00</td>\n",
       "      <td>Europe</td>\n",
       "    </tr>\n",
       "    <tr>\n",
       "      <th>Algeria</th>\n",
       "      <td>27973</td>\n",
       "      <td>1163</td>\n",
       "      <td>18837</td>\n",
       "      <td>7973</td>\n",
       "      <td>616</td>\n",
       "      <td>8</td>\n",
       "      <td>749</td>\n",
       "      <td>4.16</td>\n",
       "      <td>67.34</td>\n",
       "      <td>6.17</td>\n",
       "      <td>23691</td>\n",
       "      <td>4282</td>\n",
       "      <td>18.07</td>\n",
       "      <td>Africa</td>\n",
       "    </tr>\n",
       "    <tr>\n",
       "      <th>Andorra</th>\n",
       "      <td>907</td>\n",
       "      <td>52</td>\n",
       "      <td>803</td>\n",
       "      <td>52</td>\n",
       "      <td>10</td>\n",
       "      <td>0</td>\n",
       "      <td>0</td>\n",
       "      <td>5.73</td>\n",
       "      <td>88.53</td>\n",
       "      <td>6.48</td>\n",
       "      <td>884</td>\n",
       "      <td>23</td>\n",
       "      <td>2.60</td>\n",
       "      <td>Europe</td>\n",
       "    </tr>\n",
       "    <tr>\n",
       "      <th>Angola</th>\n",
       "      <td>950</td>\n",
       "      <td>41</td>\n",
       "      <td>242</td>\n",
       "      <td>667</td>\n",
       "      <td>18</td>\n",
       "      <td>1</td>\n",
       "      <td>0</td>\n",
       "      <td>4.32</td>\n",
       "      <td>25.47</td>\n",
       "      <td>16.94</td>\n",
       "      <td>749</td>\n",
       "      <td>201</td>\n",
       "      <td>26.84</td>\n",
       "      <td>Africa</td>\n",
       "    </tr>\n",
       "  </tbody>\n",
       "</table>\n",
       "</div>"
      ],
      "text/plain": [
       "                Confirmed  Deaths  Recovered  Active  New cases  New deaths  \\\n",
       "Country/Region                                                                \n",
       "Afghanistan         36263    1269      25198    9796        106          10   \n",
       "Albania              4880     144       2745    1991        117           6   \n",
       "Algeria             27973    1163      18837    7973        616           8   \n",
       "Andorra               907      52        803      52         10           0   \n",
       "Angola                950      41        242     667         18           1   \n",
       "\n",
       "                New recovered  Deaths / 100 Cases  Recovered / 100 Cases  \\\n",
       "Country/Region                                                             \n",
       "Afghanistan                18                3.50                  69.49   \n",
       "Albania                    63                2.95                  56.25   \n",
       "Algeria                   749                4.16                  67.34   \n",
       "Andorra                     0                5.73                  88.53   \n",
       "Angola                      0                4.32                  25.47   \n",
       "\n",
       "                Deaths / 100 Recovered  Confirmed last week  1 week change  \\\n",
       "Country/Region                                                               \n",
       "Afghanistan                       5.04                35526            737   \n",
       "Albania                           5.25                 4171            709   \n",
       "Algeria                           6.17                23691           4282   \n",
       "Andorra                           6.48                  884             23   \n",
       "Angola                           16.94                  749            201   \n",
       "\n",
       "                1 week % increase             WHO Region  \n",
       "Country/Region                                            \n",
       "Afghanistan                  2.07  Eastern Mediterranean  \n",
       "Albania                     17.00                 Europe  \n",
       "Algeria                     18.07                 Africa  \n",
       "Andorra                      2.60                 Europe  \n",
       "Angola                      26.84                 Africa  "
      ]
     },
     "execution_count": 15,
     "metadata": {},
     "output_type": "execute_result"
    }
   ],
   "source": [
    "df_country.head()"
   ]
  },
  {
   "cell_type": "markdown",
   "id": "80d7a028",
   "metadata": {
    "papermill": {
     "duration": 0.019241,
     "end_time": "2023-02-14T14:47:29.810185",
     "exception": false,
     "start_time": "2023-02-14T14:47:29.790944",
     "status": "completed"
    },
    "tags": []
   },
   "source": [
    "### a. Dropping unnecessary columns"
   ]
  },
  {
   "cell_type": "code",
   "execution_count": 16,
   "id": "d7bf770f",
   "metadata": {
    "execution": {
     "iopub.execute_input": "2023-02-14T14:47:29.850909Z",
     "iopub.status.busy": "2023-02-14T14:47:29.850503Z",
     "iopub.status.idle": "2023-02-14T14:47:29.866583Z",
     "shell.execute_reply": "2023-02-14T14:47:29.865392Z"
    },
    "papermill": {
     "duration": 0.038939,
     "end_time": "2023-02-14T14:47:29.868731",
     "exception": false,
     "start_time": "2023-02-14T14:47:29.829792",
     "status": "completed"
    },
    "tags": []
   },
   "outputs": [
    {
     "data": {
      "text/html": [
       "<div>\n",
       "<style scoped>\n",
       "    .dataframe tbody tr th:only-of-type {\n",
       "        vertical-align: middle;\n",
       "    }\n",
       "\n",
       "    .dataframe tbody tr th {\n",
       "        vertical-align: top;\n",
       "    }\n",
       "\n",
       "    .dataframe thead th {\n",
       "        text-align: right;\n",
       "    }\n",
       "</style>\n",
       "<table border=\"1\" class=\"dataframe\">\n",
       "  <thead>\n",
       "    <tr style=\"text-align: right;\">\n",
       "      <th></th>\n",
       "      <th>Confirmed</th>\n",
       "      <th>Deaths</th>\n",
       "      <th>Recovered</th>\n",
       "      <th>Active</th>\n",
       "      <th>New cases</th>\n",
       "      <th>New deaths</th>\n",
       "      <th>New recovered</th>\n",
       "      <th>WHO Region</th>\n",
       "    </tr>\n",
       "    <tr>\n",
       "      <th>Country/Region</th>\n",
       "      <th></th>\n",
       "      <th></th>\n",
       "      <th></th>\n",
       "      <th></th>\n",
       "      <th></th>\n",
       "      <th></th>\n",
       "      <th></th>\n",
       "      <th></th>\n",
       "    </tr>\n",
       "  </thead>\n",
       "  <tbody>\n",
       "    <tr>\n",
       "      <th>Afghanistan</th>\n",
       "      <td>36263</td>\n",
       "      <td>1269</td>\n",
       "      <td>25198</td>\n",
       "      <td>9796</td>\n",
       "      <td>106</td>\n",
       "      <td>10</td>\n",
       "      <td>18</td>\n",
       "      <td>Eastern Mediterranean</td>\n",
       "    </tr>\n",
       "    <tr>\n",
       "      <th>Albania</th>\n",
       "      <td>4880</td>\n",
       "      <td>144</td>\n",
       "      <td>2745</td>\n",
       "      <td>1991</td>\n",
       "      <td>117</td>\n",
       "      <td>6</td>\n",
       "      <td>63</td>\n",
       "      <td>Europe</td>\n",
       "    </tr>\n",
       "    <tr>\n",
       "      <th>Algeria</th>\n",
       "      <td>27973</td>\n",
       "      <td>1163</td>\n",
       "      <td>18837</td>\n",
       "      <td>7973</td>\n",
       "      <td>616</td>\n",
       "      <td>8</td>\n",
       "      <td>749</td>\n",
       "      <td>Africa</td>\n",
       "    </tr>\n",
       "    <tr>\n",
       "      <th>Andorra</th>\n",
       "      <td>907</td>\n",
       "      <td>52</td>\n",
       "      <td>803</td>\n",
       "      <td>52</td>\n",
       "      <td>10</td>\n",
       "      <td>0</td>\n",
       "      <td>0</td>\n",
       "      <td>Europe</td>\n",
       "    </tr>\n",
       "    <tr>\n",
       "      <th>Angola</th>\n",
       "      <td>950</td>\n",
       "      <td>41</td>\n",
       "      <td>242</td>\n",
       "      <td>667</td>\n",
       "      <td>18</td>\n",
       "      <td>1</td>\n",
       "      <td>0</td>\n",
       "      <td>Africa</td>\n",
       "    </tr>\n",
       "  </tbody>\n",
       "</table>\n",
       "</div>"
      ],
      "text/plain": [
       "                Confirmed  Deaths  Recovered  Active  New cases  New deaths  \\\n",
       "Country/Region                                                                \n",
       "Afghanistan         36263    1269      25198    9796        106          10   \n",
       "Albania              4880     144       2745    1991        117           6   \n",
       "Algeria             27973    1163      18837    7973        616           8   \n",
       "Andorra               907      52        803      52         10           0   \n",
       "Angola                950      41        242     667         18           1   \n",
       "\n",
       "                New recovered             WHO Region  \n",
       "Country/Region                                        \n",
       "Afghanistan                18  Eastern Mediterranean  \n",
       "Albania                    63                 Europe  \n",
       "Algeria                   749                 Africa  \n",
       "Andorra                     0                 Europe  \n",
       "Angola                      0                 Africa  "
      ]
     },
     "execution_count": 16,
     "metadata": {},
     "output_type": "execute_result"
    }
   ],
   "source": [
    "df_country_1 = df_country[[\"Confirmed\", \"Deaths\", \"Recovered\", \"Active\", \"New cases\", \"New deaths\", \"New recovered\", \"WHO Region\"]].copy()\n",
    "df_country_1.head()"
   ]
  },
  {
   "cell_type": "markdown",
   "id": "6d14d638",
   "metadata": {
    "papermill": {
     "duration": 0.019598,
     "end_time": "2023-02-14T14:47:29.908312",
     "exception": false,
     "start_time": "2023-02-14T14:47:29.888714",
     "status": "completed"
    },
    "tags": []
   },
   "source": [
    "### b. Sanity check"
   ]
  },
  {
   "cell_type": "markdown",
   "id": "10da4449",
   "metadata": {
    "papermill": {
     "duration": 0.019445,
     "end_time": "2023-02-14T14:47:29.947665",
     "exception": false,
     "start_time": "2023-02-14T14:47:29.928220",
     "status": "completed"
    },
    "tags": []
   },
   "source": [
    "#### 1. Check if confirmed cases are less than deaths (which ideally should be the case) ✔"
   ]
  },
  {
   "cell_type": "code",
   "execution_count": 17,
   "id": "f29f906c",
   "metadata": {
    "execution": {
     "iopub.execute_input": "2023-02-14T14:47:29.988934Z",
     "iopub.status.busy": "2023-02-14T14:47:29.988557Z",
     "iopub.status.idle": "2023-02-14T14:47:29.997046Z",
     "shell.execute_reply": "2023-02-14T14:47:29.995902Z"
    },
    "papermill": {
     "duration": 0.032101,
     "end_time": "2023-02-14T14:47:29.999368",
     "exception": false,
     "start_time": "2023-02-14T14:47:29.967267",
     "status": "completed"
    },
    "tags": []
   },
   "outputs": [
    {
     "data": {
      "text/plain": [
       "0"
      ]
     },
     "execution_count": 17,
     "metadata": {},
     "output_type": "execute_result"
    }
   ],
   "source": [
    "df_country_1[df_country_1[\"Confirmed\"] < df_country_1[\"Deaths\"]].size"
   ]
  },
  {
   "cell_type": "markdown",
   "id": "5fe6ea96",
   "metadata": {
    "papermill": {
     "duration": 0.019744,
     "end_time": "2023-02-14T14:47:30.039112",
     "exception": false,
     "start_time": "2023-02-14T14:47:30.019368",
     "status": "completed"
    },
    "tags": []
   },
   "source": [
    "#### 2. WHO Region unique value check ✔"
   ]
  },
  {
   "cell_type": "code",
   "execution_count": 18,
   "id": "3abb2f74",
   "metadata": {
    "execution": {
     "iopub.execute_input": "2023-02-14T14:47:30.080845Z",
     "iopub.status.busy": "2023-02-14T14:47:30.080465Z",
     "iopub.status.idle": "2023-02-14T14:47:30.087294Z",
     "shell.execute_reply": "2023-02-14T14:47:30.086542Z"
    },
    "papermill": {
     "duration": 0.030298,
     "end_time": "2023-02-14T14:47:30.089465",
     "exception": false,
     "start_time": "2023-02-14T14:47:30.059167",
     "status": "completed"
    },
    "tags": []
   },
   "outputs": [
    {
     "data": {
      "text/plain": [
       "array(['Eastern Mediterranean', 'Europe', 'Africa', 'Americas',\n",
       "       'Western Pacific', 'South-East Asia'], dtype=object)"
      ]
     },
     "execution_count": 18,
     "metadata": {},
     "output_type": "execute_result"
    }
   ],
   "source": [
    "df_country_1[\"WHO Region\"].unique()"
   ]
  },
  {
   "cell_type": "markdown",
   "id": "3f9bc702",
   "metadata": {
    "papermill": {
     "duration": 0.019747,
     "end_time": "2023-02-14T14:47:30.129216",
     "exception": false,
     "start_time": "2023-02-14T14:47:30.109469",
     "status": "completed"
    },
    "tags": []
   },
   "source": [
    "#### 3. Cases not in negative ✔"
   ]
  },
  {
   "cell_type": "code",
   "execution_count": 19,
   "id": "d18752ca",
   "metadata": {
    "execution": {
     "iopub.execute_input": "2023-02-14T14:47:30.171217Z",
     "iopub.status.busy": "2023-02-14T14:47:30.170834Z",
     "iopub.status.idle": "2023-02-14T14:47:30.179111Z",
     "shell.execute_reply": "2023-02-14T14:47:30.177896Z"
    },
    "papermill": {
     "duration": 0.031926,
     "end_time": "2023-02-14T14:47:30.181409",
     "exception": false,
     "start_time": "2023-02-14T14:47:30.149483",
     "status": "completed"
    },
    "tags": []
   },
   "outputs": [],
   "source": [
    "for col in df_country_1.columns:\n",
    "    if col not in [\"WHO Region\", \"Country/Region\"]:\n",
    "        if df_country_1[df_country_1[col] < 0].size > 0:\n",
    "            print(col)"
   ]
  },
  {
   "cell_type": "markdown",
   "id": "f1311e22",
   "metadata": {
    "papermill": {
     "duration": 0.019795,
     "end_time": "2023-02-14T14:47:30.221299",
     "exception": false,
     "start_time": "2023-02-14T14:47:30.201504",
     "status": "completed"
    },
    "tags": []
   },
   "source": [
    "### c. Resetting index"
   ]
  },
  {
   "cell_type": "code",
   "execution_count": 20,
   "id": "867f0413",
   "metadata": {
    "execution": {
     "iopub.execute_input": "2023-02-14T14:47:30.263018Z",
     "iopub.status.busy": "2023-02-14T14:47:30.262642Z",
     "iopub.status.idle": "2023-02-14T14:47:30.268201Z",
     "shell.execute_reply": "2023-02-14T14:47:30.267010Z"
    },
    "papermill": {
     "duration": 0.02924,
     "end_time": "2023-02-14T14:47:30.270467",
     "exception": false,
     "start_time": "2023-02-14T14:47:30.241227",
     "status": "completed"
    },
    "tags": []
   },
   "outputs": [],
   "source": [
    "df_country_1.reset_index(inplace=True)"
   ]
  },
  {
   "cell_type": "code",
   "execution_count": 21,
   "id": "2f6721ef",
   "metadata": {
    "execution": {
     "iopub.execute_input": "2023-02-14T14:47:30.313129Z",
     "iopub.status.busy": "2023-02-14T14:47:30.312744Z",
     "iopub.status.idle": "2023-02-14T14:47:30.326220Z",
     "shell.execute_reply": "2023-02-14T14:47:30.325100Z"
    },
    "papermill": {
     "duration": 0.037742,
     "end_time": "2023-02-14T14:47:30.328647",
     "exception": false,
     "start_time": "2023-02-14T14:47:30.290905",
     "status": "completed"
    },
    "scrolled": true,
    "tags": []
   },
   "outputs": [
    {
     "data": {
      "text/html": [
       "<div>\n",
       "<style scoped>\n",
       "    .dataframe tbody tr th:only-of-type {\n",
       "        vertical-align: middle;\n",
       "    }\n",
       "\n",
       "    .dataframe tbody tr th {\n",
       "        vertical-align: top;\n",
       "    }\n",
       "\n",
       "    .dataframe thead th {\n",
       "        text-align: right;\n",
       "    }\n",
       "</style>\n",
       "<table border=\"1\" class=\"dataframe\">\n",
       "  <thead>\n",
       "    <tr style=\"text-align: right;\">\n",
       "      <th></th>\n",
       "      <th>Country/Region</th>\n",
       "      <th>Confirmed</th>\n",
       "      <th>Deaths</th>\n",
       "      <th>Recovered</th>\n",
       "      <th>Active</th>\n",
       "      <th>New cases</th>\n",
       "      <th>New deaths</th>\n",
       "      <th>New recovered</th>\n",
       "      <th>WHO Region</th>\n",
       "    </tr>\n",
       "  </thead>\n",
       "  <tbody>\n",
       "    <tr>\n",
       "      <th>0</th>\n",
       "      <td>Afghanistan</td>\n",
       "      <td>36263</td>\n",
       "      <td>1269</td>\n",
       "      <td>25198</td>\n",
       "      <td>9796</td>\n",
       "      <td>106</td>\n",
       "      <td>10</td>\n",
       "      <td>18</td>\n",
       "      <td>Eastern Mediterranean</td>\n",
       "    </tr>\n",
       "    <tr>\n",
       "      <th>1</th>\n",
       "      <td>Albania</td>\n",
       "      <td>4880</td>\n",
       "      <td>144</td>\n",
       "      <td>2745</td>\n",
       "      <td>1991</td>\n",
       "      <td>117</td>\n",
       "      <td>6</td>\n",
       "      <td>63</td>\n",
       "      <td>Europe</td>\n",
       "    </tr>\n",
       "    <tr>\n",
       "      <th>2</th>\n",
       "      <td>Algeria</td>\n",
       "      <td>27973</td>\n",
       "      <td>1163</td>\n",
       "      <td>18837</td>\n",
       "      <td>7973</td>\n",
       "      <td>616</td>\n",
       "      <td>8</td>\n",
       "      <td>749</td>\n",
       "      <td>Africa</td>\n",
       "    </tr>\n",
       "    <tr>\n",
       "      <th>3</th>\n",
       "      <td>Andorra</td>\n",
       "      <td>907</td>\n",
       "      <td>52</td>\n",
       "      <td>803</td>\n",
       "      <td>52</td>\n",
       "      <td>10</td>\n",
       "      <td>0</td>\n",
       "      <td>0</td>\n",
       "      <td>Europe</td>\n",
       "    </tr>\n",
       "    <tr>\n",
       "      <th>4</th>\n",
       "      <td>Angola</td>\n",
       "      <td>950</td>\n",
       "      <td>41</td>\n",
       "      <td>242</td>\n",
       "      <td>667</td>\n",
       "      <td>18</td>\n",
       "      <td>1</td>\n",
       "      <td>0</td>\n",
       "      <td>Africa</td>\n",
       "    </tr>\n",
       "  </tbody>\n",
       "</table>\n",
       "</div>"
      ],
      "text/plain": [
       "  Country/Region  Confirmed  Deaths  Recovered  Active  New cases  New deaths  \\\n",
       "0    Afghanistan      36263    1269      25198    9796        106          10   \n",
       "1        Albania       4880     144       2745    1991        117           6   \n",
       "2        Algeria      27973    1163      18837    7973        616           8   \n",
       "3        Andorra        907      52        803      52         10           0   \n",
       "4         Angola        950      41        242     667         18           1   \n",
       "\n",
       "   New recovered             WHO Region  \n",
       "0             18  Eastern Mediterranean  \n",
       "1             63                 Europe  \n",
       "2            749                 Africa  \n",
       "3              0                 Europe  \n",
       "4              0                 Africa  "
      ]
     },
     "execution_count": 21,
     "metadata": {},
     "output_type": "execute_result"
    }
   ],
   "source": [
    "df_country_1.head()"
   ]
  },
  {
   "cell_type": "markdown",
   "id": "449c0eb3",
   "metadata": {
    "papermill": {
     "duration": 0.020018,
     "end_time": "2023-02-14T14:47:30.369215",
     "exception": false,
     "start_time": "2023-02-14T14:47:30.349197",
     "status": "completed"
    },
    "tags": []
   },
   "source": [
    "### d. Null check"
   ]
  },
  {
   "cell_type": "code",
   "execution_count": 22,
   "id": "f89ae024",
   "metadata": {
    "execution": {
     "iopub.execute_input": "2023-02-14T14:47:30.411824Z",
     "iopub.status.busy": "2023-02-14T14:47:30.411436Z",
     "iopub.status.idle": "2023-02-14T14:47:30.421616Z",
     "shell.execute_reply": "2023-02-14T14:47:30.420413Z"
    },
    "papermill": {
     "duration": 0.034559,
     "end_time": "2023-02-14T14:47:30.424081",
     "exception": false,
     "start_time": "2023-02-14T14:47:30.389522",
     "status": "completed"
    },
    "tags": []
   },
   "outputs": [
    {
     "data": {
      "text/plain": [
       "Country/Region    0\n",
       "Confirmed         0\n",
       "Deaths            0\n",
       "Recovered         0\n",
       "Active            0\n",
       "New cases         0\n",
       "New deaths        0\n",
       "New recovered     0\n",
       "WHO Region        0\n",
       "dtype: int64"
      ]
     },
     "execution_count": 22,
     "metadata": {},
     "output_type": "execute_result"
    }
   ],
   "source": [
    "df_country_1.isnull().sum()"
   ]
  },
  {
   "cell_type": "markdown",
   "id": "a314fbc8",
   "metadata": {
    "papermill": {
     "duration": 0.020355,
     "end_time": "2023-02-14T14:47:30.464973",
     "exception": false,
     "start_time": "2023-02-14T14:47:30.444618",
     "status": "completed"
    },
    "tags": []
   },
   "source": [
    "## 2. Cleaning complete data"
   ]
  },
  {
   "cell_type": "code",
   "execution_count": 23,
   "id": "ad20d0ee",
   "metadata": {
    "execution": {
     "iopub.execute_input": "2023-02-14T14:47:30.508542Z",
     "iopub.status.busy": "2023-02-14T14:47:30.508112Z",
     "iopub.status.idle": "2023-02-14T14:47:30.522572Z",
     "shell.execute_reply": "2023-02-14T14:47:30.521343Z"
    },
    "papermill": {
     "duration": 0.038951,
     "end_time": "2023-02-14T14:47:30.524981",
     "exception": false,
     "start_time": "2023-02-14T14:47:30.486030",
     "status": "completed"
    },
    "tags": []
   },
   "outputs": [
    {
     "data": {
      "text/html": [
       "<div>\n",
       "<style scoped>\n",
       "    .dataframe tbody tr th:only-of-type {\n",
       "        vertical-align: middle;\n",
       "    }\n",
       "\n",
       "    .dataframe tbody tr th {\n",
       "        vertical-align: top;\n",
       "    }\n",
       "\n",
       "    .dataframe thead th {\n",
       "        text-align: right;\n",
       "    }\n",
       "</style>\n",
       "<table border=\"1\" class=\"dataframe\">\n",
       "  <thead>\n",
       "    <tr style=\"text-align: right;\">\n",
       "      <th></th>\n",
       "      <th>Country/Region</th>\n",
       "      <th>Lat</th>\n",
       "      <th>Long</th>\n",
       "      <th>Date</th>\n",
       "      <th>Confirmed</th>\n",
       "      <th>Deaths</th>\n",
       "      <th>Recovered</th>\n",
       "      <th>Active</th>\n",
       "      <th>WHO Region</th>\n",
       "    </tr>\n",
       "    <tr>\n",
       "      <th>Province/State</th>\n",
       "      <th></th>\n",
       "      <th></th>\n",
       "      <th></th>\n",
       "      <th></th>\n",
       "      <th></th>\n",
       "      <th></th>\n",
       "      <th></th>\n",
       "      <th></th>\n",
       "      <th></th>\n",
       "    </tr>\n",
       "  </thead>\n",
       "  <tbody>\n",
       "    <tr>\n",
       "      <th>NaN</th>\n",
       "      <td>Afghanistan</td>\n",
       "      <td>33.93911</td>\n",
       "      <td>67.709953</td>\n",
       "      <td>2020-01-22</td>\n",
       "      <td>0</td>\n",
       "      <td>0</td>\n",
       "      <td>0</td>\n",
       "      <td>0</td>\n",
       "      <td>Eastern Mediterranean</td>\n",
       "    </tr>\n",
       "    <tr>\n",
       "      <th>NaN</th>\n",
       "      <td>Albania</td>\n",
       "      <td>41.15330</td>\n",
       "      <td>20.168300</td>\n",
       "      <td>2020-01-22</td>\n",
       "      <td>0</td>\n",
       "      <td>0</td>\n",
       "      <td>0</td>\n",
       "      <td>0</td>\n",
       "      <td>Europe</td>\n",
       "    </tr>\n",
       "    <tr>\n",
       "      <th>NaN</th>\n",
       "      <td>Algeria</td>\n",
       "      <td>28.03390</td>\n",
       "      <td>1.659600</td>\n",
       "      <td>2020-01-22</td>\n",
       "      <td>0</td>\n",
       "      <td>0</td>\n",
       "      <td>0</td>\n",
       "      <td>0</td>\n",
       "      <td>Africa</td>\n",
       "    </tr>\n",
       "    <tr>\n",
       "      <th>NaN</th>\n",
       "      <td>Andorra</td>\n",
       "      <td>42.50630</td>\n",
       "      <td>1.521800</td>\n",
       "      <td>2020-01-22</td>\n",
       "      <td>0</td>\n",
       "      <td>0</td>\n",
       "      <td>0</td>\n",
       "      <td>0</td>\n",
       "      <td>Europe</td>\n",
       "    </tr>\n",
       "    <tr>\n",
       "      <th>NaN</th>\n",
       "      <td>Angola</td>\n",
       "      <td>-11.20270</td>\n",
       "      <td>17.873900</td>\n",
       "      <td>2020-01-22</td>\n",
       "      <td>0</td>\n",
       "      <td>0</td>\n",
       "      <td>0</td>\n",
       "      <td>0</td>\n",
       "      <td>Africa</td>\n",
       "    </tr>\n",
       "  </tbody>\n",
       "</table>\n",
       "</div>"
      ],
      "text/plain": [
       "               Country/Region       Lat       Long        Date  Confirmed  \\\n",
       "Province/State                                                              \n",
       "NaN               Afghanistan  33.93911  67.709953  2020-01-22          0   \n",
       "NaN                   Albania  41.15330  20.168300  2020-01-22          0   \n",
       "NaN                   Algeria  28.03390   1.659600  2020-01-22          0   \n",
       "NaN                   Andorra  42.50630   1.521800  2020-01-22          0   \n",
       "NaN                    Angola -11.20270  17.873900  2020-01-22          0   \n",
       "\n",
       "                Deaths  Recovered  Active             WHO Region  \n",
       "Province/State                                                    \n",
       "NaN                  0          0       0  Eastern Mediterranean  \n",
       "NaN                  0          0       0                 Europe  \n",
       "NaN                  0          0       0                 Africa  \n",
       "NaN                  0          0       0                 Europe  \n",
       "NaN                  0          0       0                 Africa  "
      ]
     },
     "execution_count": 23,
     "metadata": {},
     "output_type": "execute_result"
    }
   ],
   "source": [
    "df_complete.head()"
   ]
  },
  {
   "cell_type": "markdown",
   "id": "c00bb92e",
   "metadata": {
    "papermill": {
     "duration": 0.020573,
     "end_time": "2023-02-14T14:47:30.566626",
     "exception": false,
     "start_time": "2023-02-14T14:47:30.546053",
     "status": "completed"
    },
    "tags": []
   },
   "source": [
    "### a. Resetting index"
   ]
  },
  {
   "cell_type": "code",
   "execution_count": 24,
   "id": "4585af43",
   "metadata": {
    "execution": {
     "iopub.execute_input": "2023-02-14T14:47:30.609923Z",
     "iopub.status.busy": "2023-02-14T14:47:30.609517Z",
     "iopub.status.idle": "2023-02-14T14:47:30.615984Z",
     "shell.execute_reply": "2023-02-14T14:47:30.614838Z"
    },
    "papermill": {
     "duration": 0.0308,
     "end_time": "2023-02-14T14:47:30.618375",
     "exception": false,
     "start_time": "2023-02-14T14:47:30.587575",
     "status": "completed"
    },
    "tags": []
   },
   "outputs": [],
   "source": [
    "df_complete.reset_index(inplace=True)"
   ]
  },
  {
   "cell_type": "markdown",
   "id": "5fdf96d0",
   "metadata": {
    "papermill": {
     "duration": 0.020851,
     "end_time": "2023-02-14T14:47:30.660130",
     "exception": false,
     "start_time": "2023-02-14T14:47:30.639279",
     "status": "completed"
    },
    "tags": []
   },
   "source": [
    "### b. Sanity Check "
   ]
  },
  {
   "cell_type": "markdown",
   "id": "55af2c3e",
   "metadata": {
    "papermill": {
     "duration": 0.020166,
     "end_time": "2023-02-14T14:47:30.700976",
     "exception": false,
     "start_time": "2023-02-14T14:47:30.680810",
     "status": "completed"
    },
    "tags": []
   },
   "source": [
    "#### 1. Cases shouldn't be in negative ✔"
   ]
  },
  {
   "cell_type": "code",
   "execution_count": 25,
   "id": "e90461b6",
   "metadata": {
    "execution": {
     "iopub.execute_input": "2023-02-14T14:47:30.745445Z",
     "iopub.status.busy": "2023-02-14T14:47:30.744955Z",
     "iopub.status.idle": "2023-02-14T14:47:30.759794Z",
     "shell.execute_reply": "2023-02-14T14:47:30.758613Z"
    },
    "papermill": {
     "duration": 0.0408,
     "end_time": "2023-02-14T14:47:30.763021",
     "exception": false,
     "start_time": "2023-02-14T14:47:30.722221",
     "status": "completed"
    },
    "tags": []
   },
   "outputs": [
    {
     "name": "stdout",
     "output_type": "stream",
     "text": [
      "Active\n"
     ]
    }
   ],
   "source": [
    "for col in df_complete.columns:\n",
    "    if col in [\"Confirmed\", \"Deaths\", \"Recovered\", \"Active\"]:\n",
    "        if df_complete[df_complete[col] < 0].size > 0:\n",
    "            print(col)"
   ]
  },
  {
   "cell_type": "markdown",
   "id": "a5c5a5a1",
   "metadata": {
    "papermill": {
     "duration": 0.020589,
     "end_time": "2023-02-14T14:47:30.805640",
     "exception": false,
     "start_time": "2023-02-14T14:47:30.785051",
     "status": "completed"
    },
    "tags": []
   },
   "source": [
    "##### 2. Dropping rows where active is -1"
   ]
  },
  {
   "cell_type": "code",
   "execution_count": 26,
   "id": "fcf31729",
   "metadata": {
    "execution": {
     "iopub.execute_input": "2023-02-14T14:47:30.849507Z",
     "iopub.status.busy": "2023-02-14T14:47:30.849053Z",
     "iopub.status.idle": "2023-02-14T14:47:30.861926Z",
     "shell.execute_reply": "2023-02-14T14:47:30.860457Z"
    },
    "papermill": {
     "duration": 0.037824,
     "end_time": "2023-02-14T14:47:30.864577",
     "exception": false,
     "start_time": "2023-02-14T14:47:30.826753",
     "status": "completed"
    },
    "tags": []
   },
   "outputs": [],
   "source": [
    "df_complete = df_complete[df_complete[\"Active\"] >= 0]"
   ]
  },
  {
   "cell_type": "markdown",
   "id": "1fe095d1",
   "metadata": {
    "papermill": {
     "duration": 0.020463,
     "end_time": "2023-02-14T14:47:30.906038",
     "exception": false,
     "start_time": "2023-02-14T14:47:30.885575",
     "status": "completed"
    },
    "tags": []
   },
   "source": [
    "### c. Deleting Province/State"
   ]
  },
  {
   "cell_type": "code",
   "execution_count": 27,
   "id": "75a1f7b1",
   "metadata": {
    "execution": {
     "iopub.execute_input": "2023-02-14T14:47:30.950354Z",
     "iopub.status.busy": "2023-02-14T14:47:30.949860Z",
     "iopub.status.idle": "2023-02-14T14:47:30.973858Z",
     "shell.execute_reply": "2023-02-14T14:47:30.972409Z"
    },
    "papermill": {
     "duration": 0.049091,
     "end_time": "2023-02-14T14:47:30.976457",
     "exception": false,
     "start_time": "2023-02-14T14:47:30.927366",
     "status": "completed"
    },
    "tags": []
   },
   "outputs": [
    {
     "data": {
      "text/html": [
       "<div>\n",
       "<style scoped>\n",
       "    .dataframe tbody tr th:only-of-type {\n",
       "        vertical-align: middle;\n",
       "    }\n",
       "\n",
       "    .dataframe tbody tr th {\n",
       "        vertical-align: top;\n",
       "    }\n",
       "\n",
       "    .dataframe thead th {\n",
       "        text-align: right;\n",
       "    }\n",
       "</style>\n",
       "<table border=\"1\" class=\"dataframe\">\n",
       "  <thead>\n",
       "    <tr style=\"text-align: right;\">\n",
       "      <th></th>\n",
       "      <th>Country/Region</th>\n",
       "      <th>Lat</th>\n",
       "      <th>Long</th>\n",
       "      <th>Date</th>\n",
       "      <th>Confirmed</th>\n",
       "      <th>Deaths</th>\n",
       "      <th>Recovered</th>\n",
       "      <th>Active</th>\n",
       "      <th>WHO Region</th>\n",
       "    </tr>\n",
       "  </thead>\n",
       "  <tbody>\n",
       "    <tr>\n",
       "      <th>0</th>\n",
       "      <td>Afghanistan</td>\n",
       "      <td>33.93911</td>\n",
       "      <td>67.709953</td>\n",
       "      <td>2020-01-22</td>\n",
       "      <td>0</td>\n",
       "      <td>0</td>\n",
       "      <td>0</td>\n",
       "      <td>0</td>\n",
       "      <td>Eastern Mediterranean</td>\n",
       "    </tr>\n",
       "    <tr>\n",
       "      <th>1</th>\n",
       "      <td>Albania</td>\n",
       "      <td>41.15330</td>\n",
       "      <td>20.168300</td>\n",
       "      <td>2020-01-22</td>\n",
       "      <td>0</td>\n",
       "      <td>0</td>\n",
       "      <td>0</td>\n",
       "      <td>0</td>\n",
       "      <td>Europe</td>\n",
       "    </tr>\n",
       "    <tr>\n",
       "      <th>2</th>\n",
       "      <td>Algeria</td>\n",
       "      <td>28.03390</td>\n",
       "      <td>1.659600</td>\n",
       "      <td>2020-01-22</td>\n",
       "      <td>0</td>\n",
       "      <td>0</td>\n",
       "      <td>0</td>\n",
       "      <td>0</td>\n",
       "      <td>Africa</td>\n",
       "    </tr>\n",
       "    <tr>\n",
       "      <th>3</th>\n",
       "      <td>Andorra</td>\n",
       "      <td>42.50630</td>\n",
       "      <td>1.521800</td>\n",
       "      <td>2020-01-22</td>\n",
       "      <td>0</td>\n",
       "      <td>0</td>\n",
       "      <td>0</td>\n",
       "      <td>0</td>\n",
       "      <td>Europe</td>\n",
       "    </tr>\n",
       "    <tr>\n",
       "      <th>4</th>\n",
       "      <td>Angola</td>\n",
       "      <td>-11.20270</td>\n",
       "      <td>17.873900</td>\n",
       "      <td>2020-01-22</td>\n",
       "      <td>0</td>\n",
       "      <td>0</td>\n",
       "      <td>0</td>\n",
       "      <td>0</td>\n",
       "      <td>Africa</td>\n",
       "    </tr>\n",
       "  </tbody>\n",
       "</table>\n",
       "</div>"
      ],
      "text/plain": [
       "  Country/Region       Lat       Long        Date  Confirmed  Deaths  \\\n",
       "0    Afghanistan  33.93911  67.709953  2020-01-22          0       0   \n",
       "1        Albania  41.15330  20.168300  2020-01-22          0       0   \n",
       "2        Algeria  28.03390   1.659600  2020-01-22          0       0   \n",
       "3        Andorra  42.50630   1.521800  2020-01-22          0       0   \n",
       "4         Angola -11.20270  17.873900  2020-01-22          0       0   \n",
       "\n",
       "   Recovered  Active             WHO Region  \n",
       "0          0       0  Eastern Mediterranean  \n",
       "1          0       0                 Europe  \n",
       "2          0       0                 Africa  \n",
       "3          0       0                 Europe  \n",
       "4          0       0                 Africa  "
      ]
     },
     "execution_count": 27,
     "metadata": {},
     "output_type": "execute_result"
    }
   ],
   "source": [
    "df_complete_1 = df_complete.drop(\"Province/State\", axis=1).copy()\n",
    "df_complete_1.head()"
   ]
  },
  {
   "cell_type": "markdown",
   "id": "c3d2d896",
   "metadata": {
    "papermill": {
     "duration": 0.022777,
     "end_time": "2023-02-14T14:47:31.021144",
     "exception": false,
     "start_time": "2023-02-14T14:47:30.998367",
     "status": "completed"
    },
    "tags": []
   },
   "source": [
    "### d. Null check"
   ]
  },
  {
   "cell_type": "code",
   "execution_count": 28,
   "id": "6841054a",
   "metadata": {
    "execution": {
     "iopub.execute_input": "2023-02-14T14:47:31.066574Z",
     "iopub.status.busy": "2023-02-14T14:47:31.066135Z",
     "iopub.status.idle": "2023-02-14T14:47:31.083387Z",
     "shell.execute_reply": "2023-02-14T14:47:31.082353Z"
    },
    "papermill": {
     "duration": 0.042749,
     "end_time": "2023-02-14T14:47:31.085687",
     "exception": false,
     "start_time": "2023-02-14T14:47:31.042938",
     "status": "completed"
    },
    "tags": []
   },
   "outputs": [
    {
     "data": {
      "text/plain": [
       "Country/Region    0\n",
       "Lat               0\n",
       "Long              0\n",
       "Date              0\n",
       "Confirmed         0\n",
       "Deaths            0\n",
       "Recovered         0\n",
       "Active            0\n",
       "WHO Region        0\n",
       "dtype: int64"
      ]
     },
     "execution_count": 28,
     "metadata": {},
     "output_type": "execute_result"
    }
   ],
   "source": [
    "df_complete_1.isnull().sum()"
   ]
  },
  {
   "cell_type": "markdown",
   "id": "54379a17",
   "metadata": {
    "papermill": {
     "duration": 0.020739,
     "end_time": "2023-02-14T14:47:31.127623",
     "exception": false,
     "start_time": "2023-02-14T14:47:31.106884",
     "status": "completed"
    },
    "tags": []
   },
   "source": [
    "### e. Extracting year, month, date"
   ]
  },
  {
   "cell_type": "code",
   "execution_count": 29,
   "id": "00b0ff72",
   "metadata": {
    "execution": {
     "iopub.execute_input": "2023-02-14T14:47:31.171798Z",
     "iopub.status.busy": "2023-02-14T14:47:31.171419Z",
     "iopub.status.idle": "2023-02-14T14:47:31.216975Z",
     "shell.execute_reply": "2023-02-14T14:47:31.215966Z"
    },
    "papermill": {
     "duration": 0.070223,
     "end_time": "2023-02-14T14:47:31.219529",
     "exception": false,
     "start_time": "2023-02-14T14:47:31.149306",
     "status": "completed"
    },
    "tags": []
   },
   "outputs": [],
   "source": [
    "df_complete_1[\"Year\"] = pd.DatetimeIndex(df_complete_1[\"Date\"]).year\n",
    "df_complete_1[\"Month\"] = pd.DatetimeIndex(df_complete_1[\"Date\"]).month\n",
    "df_complete_1[\"Day\"] = pd.DatetimeIndex(df_complete_1[\"Date\"]).day"
   ]
  },
  {
   "cell_type": "markdown",
   "id": "9b4e1226",
   "metadata": {
    "papermill": {
     "duration": 0.020665,
     "end_time": "2023-02-14T14:47:31.261267",
     "exception": false,
     "start_time": "2023-02-14T14:47:31.240602",
     "status": "completed"
    },
    "tags": []
   },
   "source": [
    "## 3. Cleaning daywise data"
   ]
  },
  {
   "cell_type": "code",
   "execution_count": 30,
   "id": "61d84395",
   "metadata": {
    "execution": {
     "iopub.execute_input": "2023-02-14T14:47:31.305171Z",
     "iopub.status.busy": "2023-02-14T14:47:31.304459Z",
     "iopub.status.idle": "2023-02-14T14:47:31.319002Z",
     "shell.execute_reply": "2023-02-14T14:47:31.317990Z"
    },
    "papermill": {
     "duration": 0.039104,
     "end_time": "2023-02-14T14:47:31.321217",
     "exception": false,
     "start_time": "2023-02-14T14:47:31.282113",
     "status": "completed"
    },
    "tags": []
   },
   "outputs": [
    {
     "data": {
      "text/html": [
       "<div>\n",
       "<style scoped>\n",
       "    .dataframe tbody tr th:only-of-type {\n",
       "        vertical-align: middle;\n",
       "    }\n",
       "\n",
       "    .dataframe tbody tr th {\n",
       "        vertical-align: top;\n",
       "    }\n",
       "\n",
       "    .dataframe thead th {\n",
       "        text-align: right;\n",
       "    }\n",
       "</style>\n",
       "<table border=\"1\" class=\"dataframe\">\n",
       "  <thead>\n",
       "    <tr style=\"text-align: right;\">\n",
       "      <th></th>\n",
       "      <th>Confirmed</th>\n",
       "      <th>Deaths</th>\n",
       "      <th>Recovered</th>\n",
       "      <th>Active</th>\n",
       "      <th>New cases</th>\n",
       "      <th>New deaths</th>\n",
       "      <th>New recovered</th>\n",
       "      <th>Deaths / 100 Cases</th>\n",
       "      <th>Recovered / 100 Cases</th>\n",
       "      <th>Deaths / 100 Recovered</th>\n",
       "      <th>No. of countries</th>\n",
       "    </tr>\n",
       "    <tr>\n",
       "      <th>Date</th>\n",
       "      <th></th>\n",
       "      <th></th>\n",
       "      <th></th>\n",
       "      <th></th>\n",
       "      <th></th>\n",
       "      <th></th>\n",
       "      <th></th>\n",
       "      <th></th>\n",
       "      <th></th>\n",
       "      <th></th>\n",
       "      <th></th>\n",
       "    </tr>\n",
       "  </thead>\n",
       "  <tbody>\n",
       "    <tr>\n",
       "      <th>2020-01-22</th>\n",
       "      <td>555</td>\n",
       "      <td>17</td>\n",
       "      <td>28</td>\n",
       "      <td>510</td>\n",
       "      <td>0</td>\n",
       "      <td>0</td>\n",
       "      <td>0</td>\n",
       "      <td>3.06</td>\n",
       "      <td>5.05</td>\n",
       "      <td>60.71</td>\n",
       "      <td>6</td>\n",
       "    </tr>\n",
       "    <tr>\n",
       "      <th>2020-01-23</th>\n",
       "      <td>654</td>\n",
       "      <td>18</td>\n",
       "      <td>30</td>\n",
       "      <td>606</td>\n",
       "      <td>99</td>\n",
       "      <td>1</td>\n",
       "      <td>2</td>\n",
       "      <td>2.75</td>\n",
       "      <td>4.59</td>\n",
       "      <td>60.00</td>\n",
       "      <td>8</td>\n",
       "    </tr>\n",
       "    <tr>\n",
       "      <th>2020-01-24</th>\n",
       "      <td>941</td>\n",
       "      <td>26</td>\n",
       "      <td>36</td>\n",
       "      <td>879</td>\n",
       "      <td>287</td>\n",
       "      <td>8</td>\n",
       "      <td>6</td>\n",
       "      <td>2.76</td>\n",
       "      <td>3.83</td>\n",
       "      <td>72.22</td>\n",
       "      <td>9</td>\n",
       "    </tr>\n",
       "    <tr>\n",
       "      <th>2020-01-25</th>\n",
       "      <td>1434</td>\n",
       "      <td>42</td>\n",
       "      <td>39</td>\n",
       "      <td>1353</td>\n",
       "      <td>493</td>\n",
       "      <td>16</td>\n",
       "      <td>3</td>\n",
       "      <td>2.93</td>\n",
       "      <td>2.72</td>\n",
       "      <td>107.69</td>\n",
       "      <td>11</td>\n",
       "    </tr>\n",
       "    <tr>\n",
       "      <th>2020-01-26</th>\n",
       "      <td>2118</td>\n",
       "      <td>56</td>\n",
       "      <td>52</td>\n",
       "      <td>2010</td>\n",
       "      <td>684</td>\n",
       "      <td>14</td>\n",
       "      <td>13</td>\n",
       "      <td>2.64</td>\n",
       "      <td>2.46</td>\n",
       "      <td>107.69</td>\n",
       "      <td>13</td>\n",
       "    </tr>\n",
       "  </tbody>\n",
       "</table>\n",
       "</div>"
      ],
      "text/plain": [
       "            Confirmed  Deaths  Recovered  Active  New cases  New deaths  \\\n",
       "Date                                                                      \n",
       "2020-01-22        555      17         28     510          0           0   \n",
       "2020-01-23        654      18         30     606         99           1   \n",
       "2020-01-24        941      26         36     879        287           8   \n",
       "2020-01-25       1434      42         39    1353        493          16   \n",
       "2020-01-26       2118      56         52    2010        684          14   \n",
       "\n",
       "            New recovered  Deaths / 100 Cases  Recovered / 100 Cases  \\\n",
       "Date                                                                   \n",
       "2020-01-22              0                3.06                   5.05   \n",
       "2020-01-23              2                2.75                   4.59   \n",
       "2020-01-24              6                2.76                   3.83   \n",
       "2020-01-25              3                2.93                   2.72   \n",
       "2020-01-26             13                2.64                   2.46   \n",
       "\n",
       "            Deaths / 100 Recovered  No. of countries  \n",
       "Date                                                  \n",
       "2020-01-22                   60.71                 6  \n",
       "2020-01-23                   60.00                 8  \n",
       "2020-01-24                   72.22                 9  \n",
       "2020-01-25                  107.69                11  \n",
       "2020-01-26                  107.69                13  "
      ]
     },
     "execution_count": 30,
     "metadata": {},
     "output_type": "execute_result"
    }
   ],
   "source": [
    "df_daywise.head()"
   ]
  },
  {
   "cell_type": "markdown",
   "id": "4ec7c72b",
   "metadata": {
    "papermill": {
     "duration": 0.021693,
     "end_time": "2023-02-14T14:47:31.364197",
     "exception": false,
     "start_time": "2023-02-14T14:47:31.342504",
     "status": "completed"
    },
    "tags": []
   },
   "source": [
    "### a. Resetting index"
   ]
  },
  {
   "cell_type": "code",
   "execution_count": 31,
   "id": "1ae05a6e",
   "metadata": {
    "execution": {
     "iopub.execute_input": "2023-02-14T14:47:31.409283Z",
     "iopub.status.busy": "2023-02-14T14:47:31.408488Z",
     "iopub.status.idle": "2023-02-14T14:47:31.413838Z",
     "shell.execute_reply": "2023-02-14T14:47:31.412878Z"
    },
    "papermill": {
     "duration": 0.029829,
     "end_time": "2023-02-14T14:47:31.415909",
     "exception": false,
     "start_time": "2023-02-14T14:47:31.386080",
     "status": "completed"
    },
    "tags": []
   },
   "outputs": [],
   "source": [
    "df_daywise.reset_index(inplace=True)"
   ]
  },
  {
   "cell_type": "markdown",
   "id": "0e3a8bcc",
   "metadata": {
    "papermill": {
     "duration": 0.021199,
     "end_time": "2023-02-14T14:47:31.458828",
     "exception": false,
     "start_time": "2023-02-14T14:47:31.437629",
     "status": "completed"
    },
    "tags": []
   },
   "source": [
    "### b. Dropping unnecessary columns"
   ]
  },
  {
   "cell_type": "code",
   "execution_count": 32,
   "id": "cf0812d1",
   "metadata": {
    "execution": {
     "iopub.execute_input": "2023-02-14T14:47:31.503347Z",
     "iopub.status.busy": "2023-02-14T14:47:31.502597Z",
     "iopub.status.idle": "2023-02-14T14:47:31.508216Z",
     "shell.execute_reply": "2023-02-14T14:47:31.507410Z"
    },
    "papermill": {
     "duration": 0.030509,
     "end_time": "2023-02-14T14:47:31.510335",
     "exception": false,
     "start_time": "2023-02-14T14:47:31.479826",
     "status": "completed"
    },
    "tags": []
   },
   "outputs": [],
   "source": [
    "df_daywise_1 = df_daywise[[\"Date\", \"Confirmed\", \"Deaths\", \"Recovered\", \"Active\", \"New cases\", \"New deaths\", \"New recovered\"]].copy()"
   ]
  },
  {
   "cell_type": "markdown",
   "id": "46602985",
   "metadata": {
    "papermill": {
     "duration": 0.020607,
     "end_time": "2023-02-14T14:47:31.552132",
     "exception": false,
     "start_time": "2023-02-14T14:47:31.531525",
     "status": "completed"
    },
    "tags": []
   },
   "source": [
    "### c. Sanity Check"
   ]
  },
  {
   "cell_type": "code",
   "execution_count": 33,
   "id": "80d56bb0",
   "metadata": {
    "execution": {
     "iopub.execute_input": "2023-02-14T14:47:31.597397Z",
     "iopub.status.busy": "2023-02-14T14:47:31.596595Z",
     "iopub.status.idle": "2023-02-14T14:47:31.605061Z",
     "shell.execute_reply": "2023-02-14T14:47:31.604195Z"
    },
    "papermill": {
     "duration": 0.034255,
     "end_time": "2023-02-14T14:47:31.607435",
     "exception": false,
     "start_time": "2023-02-14T14:47:31.573180",
     "status": "completed"
    },
    "tags": []
   },
   "outputs": [],
   "source": [
    "for col in df_daywise_1.columns[1:]:\n",
    "    if df_daywise_1[df_daywise_1[col] < 0].size > 0:\n",
    "        print(col)"
   ]
  },
  {
   "cell_type": "markdown",
   "id": "27bbcbbf",
   "metadata": {
    "papermill": {
     "duration": 0.020736,
     "end_time": "2023-02-14T14:47:31.649546",
     "exception": false,
     "start_time": "2023-02-14T14:47:31.628810",
     "status": "completed"
    },
    "tags": []
   },
   "source": [
    "### d. Null check"
   ]
  },
  {
   "cell_type": "code",
   "execution_count": 34,
   "id": "bc552834",
   "metadata": {
    "execution": {
     "iopub.execute_input": "2023-02-14T14:47:31.693964Z",
     "iopub.status.busy": "2023-02-14T14:47:31.693007Z",
     "iopub.status.idle": "2023-02-14T14:47:31.702091Z",
     "shell.execute_reply": "2023-02-14T14:47:31.700672Z"
    },
    "papermill": {
     "duration": 0.033563,
     "end_time": "2023-02-14T14:47:31.704389",
     "exception": false,
     "start_time": "2023-02-14T14:47:31.670826",
     "status": "completed"
    },
    "tags": []
   },
   "outputs": [
    {
     "data": {
      "text/plain": [
       "Date             0\n",
       "Confirmed        0\n",
       "Deaths           0\n",
       "Recovered        0\n",
       "Active           0\n",
       "New cases        0\n",
       "New deaths       0\n",
       "New recovered    0\n",
       "dtype: int64"
      ]
     },
     "execution_count": 34,
     "metadata": {},
     "output_type": "execute_result"
    }
   ],
   "source": [
    "df_daywise_1.isnull().sum()"
   ]
  },
  {
   "cell_type": "code",
   "execution_count": 35,
   "id": "7d028b72",
   "metadata": {
    "execution": {
     "iopub.execute_input": "2023-02-14T14:47:31.749201Z",
     "iopub.status.busy": "2023-02-14T14:47:31.748783Z",
     "iopub.status.idle": "2023-02-14T14:47:31.756114Z",
     "shell.execute_reply": "2023-02-14T14:47:31.755317Z"
    },
    "papermill": {
     "duration": 0.032163,
     "end_time": "2023-02-14T14:47:31.758287",
     "exception": false,
     "start_time": "2023-02-14T14:47:31.726124",
     "status": "completed"
    },
    "tags": []
   },
   "outputs": [],
   "source": [
    "df_daywise_1[\"Year\"] = pd.DatetimeIndex(df_daywise_1[\"Date\"]).year\n",
    "df_daywise_1[\"Month\"] = pd.DatetimeIndex(df_daywise_1[\"Date\"]).month"
   ]
  },
  {
   "cell_type": "markdown",
   "id": "9856c1f7",
   "metadata": {
    "papermill": {
     "duration": 0.020967,
     "end_time": "2023-02-14T14:47:31.800386",
     "exception": false,
     "start_time": "2023-02-14T14:47:31.779419",
     "status": "completed"
    },
    "tags": []
   },
   "source": [
    "## Cleaning world data"
   ]
  },
  {
   "cell_type": "code",
   "execution_count": 36,
   "id": "16f5c1a2",
   "metadata": {
    "execution": {
     "iopub.execute_input": "2023-02-14T14:47:31.845459Z",
     "iopub.status.busy": "2023-02-14T14:47:31.845032Z",
     "iopub.status.idle": "2023-02-14T14:47:31.868272Z",
     "shell.execute_reply": "2023-02-14T14:47:31.867157Z"
    },
    "papermill": {
     "duration": 0.048657,
     "end_time": "2023-02-14T14:47:31.870715",
     "exception": false,
     "start_time": "2023-02-14T14:47:31.822058",
     "status": "completed"
    },
    "tags": []
   },
   "outputs": [
    {
     "data": {
      "text/html": [
       "<div>\n",
       "<style scoped>\n",
       "    .dataframe tbody tr th:only-of-type {\n",
       "        vertical-align: middle;\n",
       "    }\n",
       "\n",
       "    .dataframe tbody tr th {\n",
       "        vertical-align: top;\n",
       "    }\n",
       "\n",
       "    .dataframe thead th {\n",
       "        text-align: right;\n",
       "    }\n",
       "</style>\n",
       "<table border=\"1\" class=\"dataframe\">\n",
       "  <thead>\n",
       "    <tr style=\"text-align: right;\">\n",
       "      <th></th>\n",
       "      <th>Continent</th>\n",
       "      <th>Population</th>\n",
       "      <th>TotalCases</th>\n",
       "      <th>NewCases</th>\n",
       "      <th>TotalDeaths</th>\n",
       "      <th>NewDeaths</th>\n",
       "      <th>TotalRecovered</th>\n",
       "      <th>NewRecovered</th>\n",
       "      <th>ActiveCases</th>\n",
       "      <th>Serious,Critical</th>\n",
       "      <th>Tot Cases/1M pop</th>\n",
       "      <th>Deaths/1M pop</th>\n",
       "      <th>TotalTests</th>\n",
       "      <th>Tests/1M pop</th>\n",
       "      <th>WHO Region</th>\n",
       "    </tr>\n",
       "    <tr>\n",
       "      <th>Country/Region</th>\n",
       "      <th></th>\n",
       "      <th></th>\n",
       "      <th></th>\n",
       "      <th></th>\n",
       "      <th></th>\n",
       "      <th></th>\n",
       "      <th></th>\n",
       "      <th></th>\n",
       "      <th></th>\n",
       "      <th></th>\n",
       "      <th></th>\n",
       "      <th></th>\n",
       "      <th></th>\n",
       "      <th></th>\n",
       "      <th></th>\n",
       "    </tr>\n",
       "  </thead>\n",
       "  <tbody>\n",
       "    <tr>\n",
       "      <th>USA</th>\n",
       "      <td>North America</td>\n",
       "      <td>3.311981e+08</td>\n",
       "      <td>5032179</td>\n",
       "      <td>NaN</td>\n",
       "      <td>162804.0</td>\n",
       "      <td>NaN</td>\n",
       "      <td>2576668.0</td>\n",
       "      <td>NaN</td>\n",
       "      <td>2292707.0</td>\n",
       "      <td>18296.0</td>\n",
       "      <td>15194.0</td>\n",
       "      <td>492.0</td>\n",
       "      <td>63139605.0</td>\n",
       "      <td>190640.0</td>\n",
       "      <td>Americas</td>\n",
       "    </tr>\n",
       "    <tr>\n",
       "      <th>Brazil</th>\n",
       "      <td>South America</td>\n",
       "      <td>2.127107e+08</td>\n",
       "      <td>2917562</td>\n",
       "      <td>NaN</td>\n",
       "      <td>98644.0</td>\n",
       "      <td>NaN</td>\n",
       "      <td>2047660.0</td>\n",
       "      <td>NaN</td>\n",
       "      <td>771258.0</td>\n",
       "      <td>8318.0</td>\n",
       "      <td>13716.0</td>\n",
       "      <td>464.0</td>\n",
       "      <td>13206188.0</td>\n",
       "      <td>62085.0</td>\n",
       "      <td>Americas</td>\n",
       "    </tr>\n",
       "    <tr>\n",
       "      <th>India</th>\n",
       "      <td>Asia</td>\n",
       "      <td>1.381345e+09</td>\n",
       "      <td>2025409</td>\n",
       "      <td>NaN</td>\n",
       "      <td>41638.0</td>\n",
       "      <td>NaN</td>\n",
       "      <td>1377384.0</td>\n",
       "      <td>NaN</td>\n",
       "      <td>606387.0</td>\n",
       "      <td>8944.0</td>\n",
       "      <td>1466.0</td>\n",
       "      <td>30.0</td>\n",
       "      <td>22149351.0</td>\n",
       "      <td>16035.0</td>\n",
       "      <td>South-EastAsia</td>\n",
       "    </tr>\n",
       "    <tr>\n",
       "      <th>Russia</th>\n",
       "      <td>Europe</td>\n",
       "      <td>1.459409e+08</td>\n",
       "      <td>871894</td>\n",
       "      <td>NaN</td>\n",
       "      <td>14606.0</td>\n",
       "      <td>NaN</td>\n",
       "      <td>676357.0</td>\n",
       "      <td>NaN</td>\n",
       "      <td>180931.0</td>\n",
       "      <td>2300.0</td>\n",
       "      <td>5974.0</td>\n",
       "      <td>100.0</td>\n",
       "      <td>29716907.0</td>\n",
       "      <td>203623.0</td>\n",
       "      <td>Europe</td>\n",
       "    </tr>\n",
       "    <tr>\n",
       "      <th>South Africa</th>\n",
       "      <td>Africa</td>\n",
       "      <td>5.938157e+07</td>\n",
       "      <td>538184</td>\n",
       "      <td>NaN</td>\n",
       "      <td>9604.0</td>\n",
       "      <td>NaN</td>\n",
       "      <td>387316.0</td>\n",
       "      <td>NaN</td>\n",
       "      <td>141264.0</td>\n",
       "      <td>539.0</td>\n",
       "      <td>9063.0</td>\n",
       "      <td>162.0</td>\n",
       "      <td>3149807.0</td>\n",
       "      <td>53044.0</td>\n",
       "      <td>Africa</td>\n",
       "    </tr>\n",
       "  </tbody>\n",
       "</table>\n",
       "</div>"
      ],
      "text/plain": [
       "                    Continent    Population  TotalCases  NewCases  \\\n",
       "Country/Region                                                      \n",
       "USA             North America  3.311981e+08     5032179       NaN   \n",
       "Brazil          South America  2.127107e+08     2917562       NaN   \n",
       "India                    Asia  1.381345e+09     2025409       NaN   \n",
       "Russia                 Europe  1.459409e+08      871894       NaN   \n",
       "South Africa           Africa  5.938157e+07      538184       NaN   \n",
       "\n",
       "                TotalDeaths  NewDeaths  TotalRecovered  NewRecovered  \\\n",
       "Country/Region                                                         \n",
       "USA                162804.0        NaN       2576668.0           NaN   \n",
       "Brazil              98644.0        NaN       2047660.0           NaN   \n",
       "India               41638.0        NaN       1377384.0           NaN   \n",
       "Russia              14606.0        NaN        676357.0           NaN   \n",
       "South Africa         9604.0        NaN        387316.0           NaN   \n",
       "\n",
       "                ActiveCases  Serious,Critical  Tot Cases/1M pop  \\\n",
       "Country/Region                                                    \n",
       "USA               2292707.0           18296.0           15194.0   \n",
       "Brazil             771258.0            8318.0           13716.0   \n",
       "India              606387.0            8944.0            1466.0   \n",
       "Russia             180931.0            2300.0            5974.0   \n",
       "South Africa       141264.0             539.0            9063.0   \n",
       "\n",
       "                Deaths/1M pop  TotalTests  Tests/1M pop      WHO Region  \n",
       "Country/Region                                                           \n",
       "USA                     492.0  63139605.0      190640.0        Americas  \n",
       "Brazil                  464.0  13206188.0       62085.0        Americas  \n",
       "India                    30.0  22149351.0       16035.0  South-EastAsia  \n",
       "Russia                  100.0  29716907.0      203623.0          Europe  \n",
       "South Africa            162.0   3149807.0       53044.0          Africa  "
      ]
     },
     "execution_count": 36,
     "metadata": {},
     "output_type": "execute_result"
    }
   ],
   "source": [
    "df_world.head()"
   ]
  },
  {
   "cell_type": "markdown",
   "id": "9abb701a",
   "metadata": {
    "papermill": {
     "duration": 0.021687,
     "end_time": "2023-02-14T14:47:31.913995",
     "exception": false,
     "start_time": "2023-02-14T14:47:31.892308",
     "status": "completed"
    },
    "tags": []
   },
   "source": [
    "### a. Extracting only population"
   ]
  },
  {
   "cell_type": "code",
   "execution_count": 37,
   "id": "a39b8a34",
   "metadata": {
    "execution": {
     "iopub.execute_input": "2023-02-14T14:47:31.959030Z",
     "iopub.status.busy": "2023-02-14T14:47:31.958620Z",
     "iopub.status.idle": "2023-02-14T14:47:31.965262Z",
     "shell.execute_reply": "2023-02-14T14:47:31.964344Z"
    },
    "papermill": {
     "duration": 0.031788,
     "end_time": "2023-02-14T14:47:31.967492",
     "exception": false,
     "start_time": "2023-02-14T14:47:31.935704",
     "status": "completed"
    },
    "tags": []
   },
   "outputs": [],
   "source": [
    "df_world_1 = df_world[[\"Population\"]].copy()"
   ]
  },
  {
   "cell_type": "markdown",
   "id": "26777567",
   "metadata": {
    "papermill": {
     "duration": 0.021789,
     "end_time": "2023-02-14T14:47:32.010927",
     "exception": false,
     "start_time": "2023-02-14T14:47:31.989138",
     "status": "completed"
    },
    "tags": []
   },
   "source": [
    "### b. Resetting index"
   ]
  },
  {
   "cell_type": "code",
   "execution_count": 38,
   "id": "e9b82daf",
   "metadata": {
    "execution": {
     "iopub.execute_input": "2023-02-14T14:47:32.057834Z",
     "iopub.status.busy": "2023-02-14T14:47:32.057417Z",
     "iopub.status.idle": "2023-02-14T14:47:32.063176Z",
     "shell.execute_reply": "2023-02-14T14:47:32.062379Z"
    },
    "papermill": {
     "duration": 0.031351,
     "end_time": "2023-02-14T14:47:32.065287",
     "exception": false,
     "start_time": "2023-02-14T14:47:32.033936",
     "status": "completed"
    },
    "tags": []
   },
   "outputs": [],
   "source": [
    "df_world_1.reset_index(inplace=True)"
   ]
  },
  {
   "cell_type": "markdown",
   "id": "9096c30b",
   "metadata": {
    "papermill": {
     "duration": 0.021497,
     "end_time": "2023-02-14T14:47:32.108662",
     "exception": false,
     "start_time": "2023-02-14T14:47:32.087165",
     "status": "completed"
    },
    "tags": []
   },
   "source": [
    "### c. Null check"
   ]
  },
  {
   "cell_type": "code",
   "execution_count": 39,
   "id": "536a14f4",
   "metadata": {
    "execution": {
     "iopub.execute_input": "2023-02-14T14:47:32.154595Z",
     "iopub.status.busy": "2023-02-14T14:47:32.153720Z",
     "iopub.status.idle": "2023-02-14T14:47:32.162384Z",
     "shell.execute_reply": "2023-02-14T14:47:32.161498Z"
    },
    "papermill": {
     "duration": 0.034081,
     "end_time": "2023-02-14T14:47:32.164496",
     "exception": false,
     "start_time": "2023-02-14T14:47:32.130415",
     "status": "completed"
    },
    "tags": []
   },
   "outputs": [
    {
     "data": {
      "text/plain": [
       "Country/Region    0\n",
       "Population        1\n",
       "dtype: int64"
      ]
     },
     "execution_count": 39,
     "metadata": {},
     "output_type": "execute_result"
    }
   ],
   "source": [
    "df_world_1.isnull().sum()"
   ]
  },
  {
   "cell_type": "markdown",
   "id": "4c044df4",
   "metadata": {
    "papermill": {
     "duration": 0.02255,
     "end_time": "2023-02-14T14:47:32.210021",
     "exception": false,
     "start_time": "2023-02-14T14:47:32.187471",
     "status": "completed"
    },
    "tags": []
   },
   "source": [
    "### d. Removing null values"
   ]
  },
  {
   "cell_type": "code",
   "execution_count": 40,
   "id": "0e4b3873",
   "metadata": {
    "execution": {
     "iopub.execute_input": "2023-02-14T14:47:32.255534Z",
     "iopub.status.busy": "2023-02-14T14:47:32.254793Z",
     "iopub.status.idle": "2023-02-14T14:47:32.260108Z",
     "shell.execute_reply": "2023-02-14T14:47:32.259293Z"
    },
    "papermill": {
     "duration": 0.030439,
     "end_time": "2023-02-14T14:47:32.262291",
     "exception": false,
     "start_time": "2023-02-14T14:47:32.231852",
     "status": "completed"
    },
    "scrolled": true,
    "tags": []
   },
   "outputs": [],
   "source": [
    "df_world_1.Population.dropna(inplace=True)"
   ]
  },
  {
   "cell_type": "markdown",
   "id": "079ef09e",
   "metadata": {
    "papermill": {
     "duration": 0.02132,
     "end_time": "2023-02-14T14:47:32.306380",
     "exception": false,
     "start_time": "2023-02-14T14:47:32.285060",
     "status": "completed"
    },
    "tags": []
   },
   "source": [
    "# Operations"
   ]
  },
  {
   "cell_type": "code",
   "execution_count": 41,
   "id": "dd1bf3b0",
   "metadata": {
    "execution": {
     "iopub.execute_input": "2023-02-14T14:47:32.352073Z",
     "iopub.status.busy": "2023-02-14T14:47:32.351147Z",
     "iopub.status.idle": "2023-02-14T14:47:32.356929Z",
     "shell.execute_reply": "2023-02-14T14:47:32.356029Z"
    },
    "papermill": {
     "duration": 0.031103,
     "end_time": "2023-02-14T14:47:32.359251",
     "exception": false,
     "start_time": "2023-02-14T14:47:32.328148",
     "status": "completed"
    },
    "tags": []
   },
   "outputs": [],
   "source": [
    "def get_lat(x):\n",
    "    country_region = x[\"Country/Region\"]\n",
    "    lat = df_complete_1[df_complete_1[\"Country/Region\"] == country_region][\"Lat\"]\n",
    "    return lat.iloc[0]"
   ]
  },
  {
   "cell_type": "code",
   "execution_count": 42,
   "id": "2bba6d7f",
   "metadata": {
    "execution": {
     "iopub.execute_input": "2023-02-14T14:47:32.406674Z",
     "iopub.status.busy": "2023-02-14T14:47:32.405686Z",
     "iopub.status.idle": "2023-02-14T14:47:33.156745Z",
     "shell.execute_reply": "2023-02-14T14:47:33.155406Z"
    },
    "papermill": {
     "duration": 0.777481,
     "end_time": "2023-02-14T14:47:33.159658",
     "exception": false,
     "start_time": "2023-02-14T14:47:32.382177",
     "status": "completed"
    },
    "tags": []
   },
   "outputs": [],
   "source": [
    "df_country_1[\"Lat\"] = df_country_1.apply(get_lat, axis=1)"
   ]
  },
  {
   "cell_type": "code",
   "execution_count": 43,
   "id": "6b51363d",
   "metadata": {
    "execution": {
     "iopub.execute_input": "2023-02-14T14:47:33.205606Z",
     "iopub.status.busy": "2023-02-14T14:47:33.204913Z",
     "iopub.status.idle": "2023-02-14T14:47:33.210184Z",
     "shell.execute_reply": "2023-02-14T14:47:33.209118Z"
    },
    "papermill": {
     "duration": 0.03072,
     "end_time": "2023-02-14T14:47:33.212617",
     "exception": false,
     "start_time": "2023-02-14T14:47:33.181897",
     "status": "completed"
    },
    "tags": []
   },
   "outputs": [],
   "source": [
    "def get_long(x):\n",
    "    country_region = x[\"Country/Region\"]\n",
    "    long = df_complete_1[df_complete_1[\"Country/Region\"] == country_region][\"Long\"]\n",
    "    return long.iloc[0]"
   ]
  },
  {
   "cell_type": "code",
   "execution_count": 44,
   "id": "993d1c5d",
   "metadata": {
    "execution": {
     "iopub.execute_input": "2023-02-14T14:47:33.258443Z",
     "iopub.status.busy": "2023-02-14T14:47:33.257805Z",
     "iopub.status.idle": "2023-02-14T14:47:33.983885Z",
     "shell.execute_reply": "2023-02-14T14:47:33.982931Z"
    },
    "papermill": {
     "duration": 0.752031,
     "end_time": "2023-02-14T14:47:33.986464",
     "exception": false,
     "start_time": "2023-02-14T14:47:33.234433",
     "status": "completed"
    },
    "tags": []
   },
   "outputs": [],
   "source": [
    "df_country_1[\"Long\"] = df_country_1.apply(get_long, axis=1)"
   ]
  },
  {
   "cell_type": "markdown",
   "id": "c0398105",
   "metadata": {
    "papermill": {
     "duration": 0.021432,
     "end_time": "2023-02-14T14:47:34.029915",
     "exception": false,
     "start_time": "2023-02-14T14:47:34.008483",
     "status": "completed"
    },
    "tags": []
   },
   "source": [
    "# Analysis"
   ]
  },
  {
   "cell_type": "markdown",
   "id": "283b2391",
   "metadata": {
    "papermill": {
     "duration": 0.021399,
     "end_time": "2023-02-14T14:47:34.073182",
     "exception": false,
     "start_time": "2023-02-14T14:47:34.051783",
     "status": "completed"
    },
    "tags": []
   },
   "source": [
    "## 0. Styling"
   ]
  },
  {
   "cell_type": "code",
   "execution_count": 45,
   "id": "38800d9e",
   "metadata": {
    "execution": {
     "iopub.execute_input": "2023-02-14T14:47:34.120608Z",
     "iopub.status.busy": "2023-02-14T14:47:34.119904Z",
     "iopub.status.idle": "2023-02-14T14:47:34.125614Z",
     "shell.execute_reply": "2023-02-14T14:47:34.124607Z"
    },
    "papermill": {
     "duration": 0.032267,
     "end_time": "2023-02-14T14:47:34.128081",
     "exception": false,
     "start_time": "2023-02-14T14:47:34.095814",
     "status": "completed"
    },
    "tags": []
   },
   "outputs": [],
   "source": [
    "title = {\n",
    "    \"fontsize\": 20,\n",
    "    \"fontweight\": 5,\n",
    "    \"color\": \"green\"\n",
    "}\n",
    "\n",
    "x_y_labels = {\n",
    "    \"fontsize\": 12,\n",
    "    \"fontweight\": 5,\n",
    "    \"color\": \"brown\"\n",
    "}"
   ]
  },
  {
   "cell_type": "markdown",
   "id": "cee1e769",
   "metadata": {
    "papermill": {
     "duration": 0.022078,
     "end_time": "2023-02-14T14:47:34.172110",
     "exception": false,
     "start_time": "2023-02-14T14:47:34.150032",
     "status": "completed"
    },
    "tags": []
   },
   "source": [
    "## 1. Cases Worldwide"
   ]
  },
  {
   "cell_type": "code",
   "execution_count": 46,
   "id": "05dff8cd",
   "metadata": {
    "execution": {
     "iopub.execute_input": "2023-02-14T14:47:34.217378Z",
     "iopub.status.busy": "2023-02-14T14:47:34.216736Z",
     "iopub.status.idle": "2023-02-14T14:47:35.556260Z",
     "shell.execute_reply": "2023-02-14T14:47:35.554894Z"
    },
    "papermill": {
     "duration": 1.365199,
     "end_time": "2023-02-14T14:47:35.558884",
     "exception": false,
     "start_time": "2023-02-14T14:47:34.193685",
     "status": "completed"
    },
    "tags": []
   },
   "outputs": [
    {
     "data": {
      "text/html": [
       "        <script type=\"text/javascript\">\n",
       "        window.PlotlyConfig = {MathJaxConfig: 'local'};\n",
       "        if (window.MathJax && window.MathJax.Hub && window.MathJax.Hub.Config) {window.MathJax.Hub.Config({SVG: {font: \"STIX-Web\"}});}\n",
       "        if (typeof require !== 'undefined') {\n",
       "        require.undef(\"plotly\");\n",
       "        requirejs.config({\n",
       "            paths: {\n",
       "                'plotly': ['https://cdn.plot.ly/plotly-2.18.0.min']\n",
       "            }\n",
       "        });\n",
       "        require(['plotly'], function(Plotly) {\n",
       "            window._Plotly = Plotly;\n",
       "        });\n",
       "        }\n",
       "        </script>\n",
       "        "
      ]
     },
     "metadata": {},
     "output_type": "display_data"
    },
    {
     "data": {
      "text/html": [
       "<div>                            <div id=\"aaf28530-6201-4d71-abb4-a59789b95e96\" class=\"plotly-graph-div\" style=\"height:600px; width:800px;\"></div>            <script type=\"text/javascript\">                require([\"plotly\"], function(Plotly) {                    window.PLOTLYENV=window.PLOTLYENV || {};                                    if (document.getElementById(\"aaf28530-6201-4d71-abb4-a59789b95e96\")) {                    Plotly.newPlot(                        \"aaf28530-6201-4d71-abb4-a59789b95e96\",                        [{\"customdata\":[[25198,1269],[2745,144],[18837,1163],[803,52],[242,41],[65,3],[72575,3059],[26665,711],[9311,167],[18246,713],[23242,423],[91,11],[36110,141],[125683,2965],[94,7],[60492,538],[17452,9822],[26,2],[1036,35],[86,0],[21478,2647],[4930,294],[63,2],[1846641,87618],[138,3],[5585,347],[926,53],[292,6],[301,1],[1550,22],[147,0],[14539,391],[0,8944],[1546,59],[810,75],[319954,9187],[78869,4656],[131161,8777],[328,7],[829,54],[5700,208],[3824,115],[10361,96],[3936,139],[2351,87],[852,19],[11428,373],[12605,613],[4977,58],[18,0],[30204,1083],[34896,5532],[34838,4652],[7778,408],[842,51],[191,0],[1923,69],[1025,34],[6386,228],[18,0],[6920,329],[81212,30212],[4682,49],[66,8],[922,16],[190314,9125],[29801,168],[1374,202],[13,0],[23,0],[32455,1761],[6257,45],[803,26],[181,20],[4365,158],[12,0],[5039,1166],[3329,596],[1823,10],[951166,33408],[58173,4838],[255144,15912],[77144,4458],[23364,1764],[27133,474],[198593,35112],[714,10],[21970,998],[1041,11],[54404,585],[7833,285],[4027,185],[55057,438],[21205,1301],[19,0],[1045,31],[1709,51],[128,12],[646,72],[577,64],[81,1],[1620,80],[4825,112],[6260,91],[1645,99],[8601,124],[2547,15],[1913,124],[665,9],[4653,156],[332,10],[303810,44022],[16154,748],[104,4],[222,0],[809,45],[16553,316],[0,11],[101,8],[13754,48],[189,6160],[1514,22],[2492,108],[1027,69],[18203,860],[5564,466],[8752,255],[57028,393],[241026,5842],[35086,1322],[11,0],[2905,43],[272547,18418],[26446,1945],[32856,1676],[35375,1719],[106328,165],[25794,2206],[602249,13334],[975,5],[15,0],[22,0],[39,0],[657,42],[734,14],[222936,2760],[6477,194],[0,543],[39,0],[1317,66],[45692,27],[1616,28],[1733,116],[1543,93],[274925,7067],[13007,300],[1175,46],[150376,28432],[2121,11],[5939,720],[925,24],[0,5700],[30900,1978],[0,40],[440,7],[6028,60],[183,21],[3111,58],[0,0],[607,18],[128,8],[1157,50],[210469,5630],[1325804,148011],[986,2],[37202,1636],[52510,345],[1437,45844],[951,35],[11674,121],[9959,146],[365,0],[3752,78],[8,1],[833,483],[2815,140],[542,36]],\"hovertemplate\":\"Confirmed=%{marker.color}<br>Country/Region=%{text}<br>Lat=%{lat}<br>Long=%{lon}<br>Recovered=%{customdata[0]}<br>Deaths=%{customdata[1]}<extra></extra>\",\"lat\":[33.93911,41.1533,28.0339,42.5063,-11.2027,17.0608,-38.4161,40.0691,-35.4735,47.5162,40.1431,25.025885,26.0275,23.685,13.1939,53.7098,50.8333,17.1899,9.3077,27.5142,-16.2902,43.9159,-22.3285,-14.235,4.5353,42.7339,12.2383,21.9162,-3.3731,16.5388,11.55,3.848,53.9333,6.6111,15.4542,-35.6751,31.8257,4.5709,-11.6455,-0.228,-4.0383,9.7489,7.54,45.1,21.521757,35.1264,49.8175,61.8926,11.8251,15.415,18.7357,-1.8312,26.820553000000004,13.7942,1.6508,15.1794,58.5953,-26.5225,9.145,-17.7134,61.92411,3.9339,-0.8037,13.4432,42.3154,51.165691,7.9465,39.0742,71.7069,12.1165,15.7835,9.9456,11.8037,4.860416000000002,18.9712,41.9029,15.2,47.1625,64.9631,20.593684,-0.7893,32.427908,33.223191,53.1424,31.046051,41.87194,18.1096,36.204824,31.24,48.0196,-0.0236,42.602636,29.31166,41.20438,19.85627,56.8796,33.8547,-29.61,6.4280550000000005,26.3351,47.14,55.1694,49.8153,-18.766947,-13.2543,4.210483999999999,3.2028,17.570692,35.9375,21.0079,-20.348404,23.6345,47.4116,43.7333,46.8625,42.708678000000006,31.7917,-18.665695,-22.9576,28.1667,12.5211,-40.9006,12.865416,17.607789,9.082,41.6086,60.472,21.512583,30.3753,8.538,-6.314993,-23.4425,-9.19,12.879721,51.9194,39.3999,25.3548,45.9432,61.52401,-1.9403,17.357822,13.9094,12.9843,43.9424,0.1864,23.885942,14.4974,44.0165,-4.6796,8.460555000000001,1.2833,48.669,46.1512,5.152149,-30.5595,35.90775700000001,6.877000000000002,40.463667,7.873054,12.8628,3.9193,60.128161,46.8182,34.802075,23.7,38.861,-6.369028,15.870032,-8.874217,8.6195,10.6918,33.886917,38.9637,40.0,1.373333,48.3794,23.424076,32.3078,-32.5228,41.377491,6.4238,14.058324,31.9522,24.2155,15.552727,-13.133897,-19.015438],\"legendgroup\":\"\",\"lon\":[67.709953,20.1683,1.6596,1.5218,17.8739,-61.7964,-63.6167,45.0382,149.0124,14.5501,47.5769,-78.035889,50.55,90.3563,-59.5432,27.9534,4.469936,-88.4976,2.3158,90.4336,-63.5887,17.6791,24.6849,-51.9253,114.7277,25.4858,-1.5616,95.956,29.9189,-23.0418,104.9167,11.5021,-116.5765,20.9394,18.7322,-71.543,117.2264,-74.2973,43.3333,15.8277,21.7587,-83.7534,-5.5471,15.2,-77.78116700000002,33.4299,15.473,-6.9118,42.5903,-61.371,-70.1627,-78.1834,30.802498,-88.8965,10.2679,39.7823,25.0136,31.4659,40.4897,178.065,25.748151,-53.1258,11.6094,-15.3101,43.3569,10.451526,-1.0232,21.8243,-42.6043,-61.679,-90.2308,-9.6966,-15.1804,-58.93018000000001,-72.2852,12.4534,-86.2419,19.5033,-19.0208,78.96288,113.9213,53.68804599999999,43.679291,-7.6921,34.851612,12.56738,-77.2975,138.252924,36.51,66.9237,37.9062,20.902977,47.481766,74.766098,102.495496,24.6032,35.8623,28.2336,-9.429499,17.228331,9.55,23.8813,6.1296,46.869107,34.3015,101.975766,73.2207,-3.996166000000001,14.3754,-10.9408,57.552152,-102.5528,28.3699,7.4167,103.8467,19.37439,-7.0926,35.529562,18.4904,84.25,-69.9683,174.886,-85.207229,8.081666,8.6753,21.7453,8.4689,55.92325500000001,69.3451,-80.7821,143.95555,-58.4438,-75.0152,121.774017,19.1451,-8.2245,51.1839,24.9668,105.318756,29.8739,-62.782998,-60.9789,-61.2872,12.4578,6.6131,45.079162,-14.4524,21.0059,55.492,-11.779889,103.8333,19.699,14.9955,46.199616,22.9375,127.766922,31.307,-3.74922,80.77179699999998,30.2176,-56.0278,18.643501,8.2275,38.99681500000001,121.0,71.2761,34.888822,100.992541,125.727539,0.8248,-61.2225,9.537499,35.2433,-100.0,32.290275,31.1656,53.847818,-64.7505,-55.7658,64.585262,-66.5897,108.277199,35.2332,-12.8858,48.516388,27.849332,29.154857],\"marker\":{\"color\":[36263,4880,27973,907,950,86,167416,37390,15303,20558,30446,382,39482,226225,110,67251,66428,48,1770,99,71181,10498,739,2442375,141,10621,1100,350,378,2328,226,17110,116458,4599,922,347923,86783,257101,354,3200,8844,15841,15655,4881,2532,1060,15516,13761,5059,18,64156,81161,92482,15035,3071,265,2034,2316,14547,27,7398,220352,7189,326,1137,207112,33624,4227,14,23,45309,7055,1954,389,7340,12,39741,4448,1854,1480073,100303,293606,112585,25892,63985,246286,853,31142,1176,84648,17975,7413,64379,33296,20,1219,3882,505,1167,2827,86,2019,6321,9690,3664,8904,3369,2513,701,6208,344,395489,23154,116,289,2893,20887,1701,1843,18752,53413,1557,3439,1132,41180,10213,9132,77058,274289,61442,62,4548,389717,82040,43402,50299,109597,45902,816680,1879,17,24,52,699,865,268934,9764,24141,114,1783,50838,2181,2087,3196,452529,14203,2305,272421,2805,11424,1483,79395,34477,674,462,7235,509,3297,24,874,148,1455,227019,4290259,1128,67096,59177,301708,1202,21209,15988,431,10621,10,1691,4552,2704],\"coloraxis\":\"coloraxis\",\"size\":[36263,4880,27973,907,950,86,167416,37390,15303,20558,30446,382,39482,226225,110,67251,66428,48,1770,99,71181,10498,739,2442375,141,10621,1100,350,378,2328,226,17110,116458,4599,922,347923,86783,257101,354,3200,8844,15841,15655,4881,2532,1060,15516,13761,5059,18,64156,81161,92482,15035,3071,265,2034,2316,14547,27,7398,220352,7189,326,1137,207112,33624,4227,14,23,45309,7055,1954,389,7340,12,39741,4448,1854,1480073,100303,293606,112585,25892,63985,246286,853,31142,1176,84648,17975,7413,64379,33296,20,1219,3882,505,1167,2827,86,2019,6321,9690,3664,8904,3369,2513,701,6208,344,395489,23154,116,289,2893,20887,1701,1843,18752,53413,1557,3439,1132,41180,10213,9132,77058,274289,61442,62,4548,389717,82040,43402,50299,109597,45902,816680,1879,17,24,52,699,865,268934,9764,24141,114,1783,50838,2181,2087,3196,452529,14203,2305,272421,2805,11424,1483,79395,34477,674,462,7235,509,3297,24,874,148,1455,227019,4290259,1128,67096,59177,301708,1202,21209,15988,431,10621,10,1691,4552,2704],\"sizemode\":\"area\",\"sizeref\":10725.6475},\"mode\":\"markers+text\",\"name\":\"\",\"showlegend\":false,\"subplot\":\"mapbox\",\"text\":[\"Afghanistan\",\"Albania\",\"Algeria\",\"Andorra\",\"Angola\",\"Antigua and Barbuda\",\"Argentina\",\"Armenia\",\"Australia\",\"Austria\",\"Azerbaijan\",\"Bahamas\",\"Bahrain\",\"Bangladesh\",\"Barbados\",\"Belarus\",\"Belgium\",\"Belize\",\"Benin\",\"Bhutan\",\"Bolivia\",\"Bosnia and Herzegovina\",\"Botswana\",\"Brazil\",\"Brunei\",\"Bulgaria\",\"Burkina Faso\",\"Burma\",\"Burundi\",\"Cabo Verde\",\"Cambodia\",\"Cameroon\",\"Canada\",\"Central African Republic\",\"Chad\",\"Chile\",\"China\",\"Colombia\",\"Comoros\",\"Congo (Brazzaville)\",\"Congo (Kinshasa)\",\"Costa Rica\",\"Cote d'Ivoire\",\"Croatia\",\"Cuba\",\"Cyprus\",\"Czechia\",\"Denmark\",\"Djibouti\",\"Dominica\",\"Dominican Republic\",\"Ecuador\",\"Egypt\",\"El Salvador\",\"Equatorial Guinea\",\"Eritrea\",\"Estonia\",\"Eswatini\",\"Ethiopia\",\"Fiji\",\"Finland\",\"France\",\"Gabon\",\"Gambia\",\"Georgia\",\"Germany\",\"Ghana\",\"Greece\",\"Greenland\",\"Grenada\",\"Guatemala\",\"Guinea\",\"Guinea-Bissau\",\"Guyana\",\"Haiti\",\"Holy See\",\"Honduras\",\"Hungary\",\"Iceland\",\"India\",\"Indonesia\",\"Iran\",\"Iraq\",\"Ireland\",\"Israel\",\"Italy\",\"Jamaica\",\"Japan\",\"Jordan\",\"Kazakhstan\",\"Kenya\",\"Kosovo\",\"Kuwait\",\"Kyrgyzstan\",\"Laos\",\"Latvia\",\"Lebanon\",\"Lesotho\",\"Liberia\",\"Libya\",\"Liechtenstein\",\"Lithuania\",\"Luxembourg\",\"Madagascar\",\"Malawi\",\"Malaysia\",\"Maldives\",\"Mali\",\"Malta\",\"Mauritania\",\"Mauritius\",\"Mexico\",\"Moldova\",\"Monaco\",\"Mongolia\",\"Montenegro\",\"Morocco\",\"Mozambique\",\"Namibia\",\"Nepal\",\"Netherlands\",\"New Zealand\",\"Nicaragua\",\"Niger\",\"Nigeria\",\"North Macedonia\",\"Norway\",\"Oman\",\"Pakistan\",\"Panama\",\"Papua New Guinea\",\"Paraguay\",\"Peru\",\"Philippines\",\"Poland\",\"Portugal\",\"Qatar\",\"Romania\",\"Russia\",\"Rwanda\",\"Saint Kitts and Nevis\",\"Saint Lucia\",\"Saint Vincent and the Grenadines\",\"San Marino\",\"Sao Tome and Principe\",\"Saudi Arabia\",\"Senegal\",\"Serbia\",\"Seychelles\",\"Sierra Leone\",\"Singapore\",\"Slovakia\",\"Slovenia\",\"Somalia\",\"South Africa\",\"South Korea\",\"South Sudan\",\"Spain\",\"Sri Lanka\",\"Sudan\",\"Suriname\",\"Sweden\",\"Switzerland\",\"Syria\",\"Taiwan*\",\"Tajikistan\",\"Tanzania\",\"Thailand\",\"Timor-Leste\",\"Togo\",\"Trinidad and Tobago\",\"Tunisia\",\"Turkey\",\"US\",\"Uganda\",\"Ukraine\",\"United Arab Emirates\",\"United Kingdom\",\"Uruguay\",\"Uzbekistan\",\"Venezuela\",\"Vietnam\",\"West Bank and Gaza\",\"Western Sahara\",\"Yemen\",\"Zambia\",\"Zimbabwe\"],\"type\":\"scattermapbox\"}],                        {\"template\":{\"data\":{\"histogram2dcontour\":[{\"type\":\"histogram2dcontour\",\"colorbar\":{\"outlinewidth\":0,\"ticks\":\"\"},\"colorscale\":[[0.0,\"#0d0887\"],[0.1111111111111111,\"#46039f\"],[0.2222222222222222,\"#7201a8\"],[0.3333333333333333,\"#9c179e\"],[0.4444444444444444,\"#bd3786\"],[0.5555555555555556,\"#d8576b\"],[0.6666666666666666,\"#ed7953\"],[0.7777777777777778,\"#fb9f3a\"],[0.8888888888888888,\"#fdca26\"],[1.0,\"#f0f921\"]]}],\"choropleth\":[{\"type\":\"choropleth\",\"colorbar\":{\"outlinewidth\":0,\"ticks\":\"\"}}],\"histogram2d\":[{\"type\":\"histogram2d\",\"colorbar\":{\"outlinewidth\":0,\"ticks\":\"\"},\"colorscale\":[[0.0,\"#0d0887\"],[0.1111111111111111,\"#46039f\"],[0.2222222222222222,\"#7201a8\"],[0.3333333333333333,\"#9c179e\"],[0.4444444444444444,\"#bd3786\"],[0.5555555555555556,\"#d8576b\"],[0.6666666666666666,\"#ed7953\"],[0.7777777777777778,\"#fb9f3a\"],[0.8888888888888888,\"#fdca26\"],[1.0,\"#f0f921\"]]}],\"heatmap\":[{\"type\":\"heatmap\",\"colorbar\":{\"outlinewidth\":0,\"ticks\":\"\"},\"colorscale\":[[0.0,\"#0d0887\"],[0.1111111111111111,\"#46039f\"],[0.2222222222222222,\"#7201a8\"],[0.3333333333333333,\"#9c179e\"],[0.4444444444444444,\"#bd3786\"],[0.5555555555555556,\"#d8576b\"],[0.6666666666666666,\"#ed7953\"],[0.7777777777777778,\"#fb9f3a\"],[0.8888888888888888,\"#fdca26\"],[1.0,\"#f0f921\"]]}],\"heatmapgl\":[{\"type\":\"heatmapgl\",\"colorbar\":{\"outlinewidth\":0,\"ticks\":\"\"},\"colorscale\":[[0.0,\"#0d0887\"],[0.1111111111111111,\"#46039f\"],[0.2222222222222222,\"#7201a8\"],[0.3333333333333333,\"#9c179e\"],[0.4444444444444444,\"#bd3786\"],[0.5555555555555556,\"#d8576b\"],[0.6666666666666666,\"#ed7953\"],[0.7777777777777778,\"#fb9f3a\"],[0.8888888888888888,\"#fdca26\"],[1.0,\"#f0f921\"]]}],\"contourcarpet\":[{\"type\":\"contourcarpet\",\"colorbar\":{\"outlinewidth\":0,\"ticks\":\"\"}}],\"contour\":[{\"type\":\"contour\",\"colorbar\":{\"outlinewidth\":0,\"ticks\":\"\"},\"colorscale\":[[0.0,\"#0d0887\"],[0.1111111111111111,\"#46039f\"],[0.2222222222222222,\"#7201a8\"],[0.3333333333333333,\"#9c179e\"],[0.4444444444444444,\"#bd3786\"],[0.5555555555555556,\"#d8576b\"],[0.6666666666666666,\"#ed7953\"],[0.7777777777777778,\"#fb9f3a\"],[0.8888888888888888,\"#fdca26\"],[1.0,\"#f0f921\"]]}],\"surface\":[{\"type\":\"surface\",\"colorbar\":{\"outlinewidth\":0,\"ticks\":\"\"},\"colorscale\":[[0.0,\"#0d0887\"],[0.1111111111111111,\"#46039f\"],[0.2222222222222222,\"#7201a8\"],[0.3333333333333333,\"#9c179e\"],[0.4444444444444444,\"#bd3786\"],[0.5555555555555556,\"#d8576b\"],[0.6666666666666666,\"#ed7953\"],[0.7777777777777778,\"#fb9f3a\"],[0.8888888888888888,\"#fdca26\"],[1.0,\"#f0f921\"]]}],\"mesh3d\":[{\"type\":\"mesh3d\",\"colorbar\":{\"outlinewidth\":0,\"ticks\":\"\"}}],\"scatter\":[{\"fillpattern\":{\"fillmode\":\"overlay\",\"size\":10,\"solidity\":0.2},\"type\":\"scatter\"}],\"parcoords\":[{\"type\":\"parcoords\",\"line\":{\"colorbar\":{\"outlinewidth\":0,\"ticks\":\"\"}}}],\"scatterpolargl\":[{\"type\":\"scatterpolargl\",\"marker\":{\"colorbar\":{\"outlinewidth\":0,\"ticks\":\"\"}}}],\"bar\":[{\"error_x\":{\"color\":\"#2a3f5f\"},\"error_y\":{\"color\":\"#2a3f5f\"},\"marker\":{\"line\":{\"color\":\"#E5ECF6\",\"width\":0.5},\"pattern\":{\"fillmode\":\"overlay\",\"size\":10,\"solidity\":0.2}},\"type\":\"bar\"}],\"scattergeo\":[{\"type\":\"scattergeo\",\"marker\":{\"colorbar\":{\"outlinewidth\":0,\"ticks\":\"\"}}}],\"scatterpolar\":[{\"type\":\"scatterpolar\",\"marker\":{\"colorbar\":{\"outlinewidth\":0,\"ticks\":\"\"}}}],\"histogram\":[{\"marker\":{\"pattern\":{\"fillmode\":\"overlay\",\"size\":10,\"solidity\":0.2}},\"type\":\"histogram\"}],\"scattergl\":[{\"type\":\"scattergl\",\"marker\":{\"colorbar\":{\"outlinewidth\":0,\"ticks\":\"\"}}}],\"scatter3d\":[{\"type\":\"scatter3d\",\"line\":{\"colorbar\":{\"outlinewidth\":0,\"ticks\":\"\"}},\"marker\":{\"colorbar\":{\"outlinewidth\":0,\"ticks\":\"\"}}}],\"scattermapbox\":[{\"type\":\"scattermapbox\",\"marker\":{\"colorbar\":{\"outlinewidth\":0,\"ticks\":\"\"}}}],\"scatterternary\":[{\"type\":\"scatterternary\",\"marker\":{\"colorbar\":{\"outlinewidth\":0,\"ticks\":\"\"}}}],\"scattercarpet\":[{\"type\":\"scattercarpet\",\"marker\":{\"colorbar\":{\"outlinewidth\":0,\"ticks\":\"\"}}}],\"carpet\":[{\"aaxis\":{\"endlinecolor\":\"#2a3f5f\",\"gridcolor\":\"white\",\"linecolor\":\"white\",\"minorgridcolor\":\"white\",\"startlinecolor\":\"#2a3f5f\"},\"baxis\":{\"endlinecolor\":\"#2a3f5f\",\"gridcolor\":\"white\",\"linecolor\":\"white\",\"minorgridcolor\":\"white\",\"startlinecolor\":\"#2a3f5f\"},\"type\":\"carpet\"}],\"table\":[{\"cells\":{\"fill\":{\"color\":\"#EBF0F8\"},\"line\":{\"color\":\"white\"}},\"header\":{\"fill\":{\"color\":\"#C8D4E3\"},\"line\":{\"color\":\"white\"}},\"type\":\"table\"}],\"barpolar\":[{\"marker\":{\"line\":{\"color\":\"#E5ECF6\",\"width\":0.5},\"pattern\":{\"fillmode\":\"overlay\",\"size\":10,\"solidity\":0.2}},\"type\":\"barpolar\"}],\"pie\":[{\"automargin\":true,\"type\":\"pie\"}]},\"layout\":{\"autotypenumbers\":\"strict\",\"colorway\":[\"#636efa\",\"#EF553B\",\"#00cc96\",\"#ab63fa\",\"#FFA15A\",\"#19d3f3\",\"#FF6692\",\"#B6E880\",\"#FF97FF\",\"#FECB52\"],\"font\":{\"color\":\"#2a3f5f\"},\"hovermode\":\"closest\",\"hoverlabel\":{\"align\":\"left\"},\"paper_bgcolor\":\"white\",\"plot_bgcolor\":\"#E5ECF6\",\"polar\":{\"bgcolor\":\"#E5ECF6\",\"angularaxis\":{\"gridcolor\":\"white\",\"linecolor\":\"white\",\"ticks\":\"\"},\"radialaxis\":{\"gridcolor\":\"white\",\"linecolor\":\"white\",\"ticks\":\"\"}},\"ternary\":{\"bgcolor\":\"#E5ECF6\",\"aaxis\":{\"gridcolor\":\"white\",\"linecolor\":\"white\",\"ticks\":\"\"},\"baxis\":{\"gridcolor\":\"white\",\"linecolor\":\"white\",\"ticks\":\"\"},\"caxis\":{\"gridcolor\":\"white\",\"linecolor\":\"white\",\"ticks\":\"\"}},\"coloraxis\":{\"colorbar\":{\"outlinewidth\":0,\"ticks\":\"\"}},\"colorscale\":{\"sequential\":[[0.0,\"#0d0887\"],[0.1111111111111111,\"#46039f\"],[0.2222222222222222,\"#7201a8\"],[0.3333333333333333,\"#9c179e\"],[0.4444444444444444,\"#bd3786\"],[0.5555555555555556,\"#d8576b\"],[0.6666666666666666,\"#ed7953\"],[0.7777777777777778,\"#fb9f3a\"],[0.8888888888888888,\"#fdca26\"],[1.0,\"#f0f921\"]],\"sequentialminus\":[[0.0,\"#0d0887\"],[0.1111111111111111,\"#46039f\"],[0.2222222222222222,\"#7201a8\"],[0.3333333333333333,\"#9c179e\"],[0.4444444444444444,\"#bd3786\"],[0.5555555555555556,\"#d8576b\"],[0.6666666666666666,\"#ed7953\"],[0.7777777777777778,\"#fb9f3a\"],[0.8888888888888888,\"#fdca26\"],[1.0,\"#f0f921\"]],\"diverging\":[[0,\"#8e0152\"],[0.1,\"#c51b7d\"],[0.2,\"#de77ae\"],[0.3,\"#f1b6da\"],[0.4,\"#fde0ef\"],[0.5,\"#f7f7f7\"],[0.6,\"#e6f5d0\"],[0.7,\"#b8e186\"],[0.8,\"#7fbc41\"],[0.9,\"#4d9221\"],[1,\"#276419\"]]},\"xaxis\":{\"gridcolor\":\"white\",\"linecolor\":\"white\",\"ticks\":\"\",\"title\":{\"standoff\":15},\"zerolinecolor\":\"white\",\"automargin\":true,\"zerolinewidth\":2},\"yaxis\":{\"gridcolor\":\"white\",\"linecolor\":\"white\",\"ticks\":\"\",\"title\":{\"standoff\":15},\"zerolinecolor\":\"white\",\"automargin\":true,\"zerolinewidth\":2},\"scene\":{\"xaxis\":{\"backgroundcolor\":\"#E5ECF6\",\"gridcolor\":\"white\",\"linecolor\":\"white\",\"showbackground\":true,\"ticks\":\"\",\"zerolinecolor\":\"white\",\"gridwidth\":2},\"yaxis\":{\"backgroundcolor\":\"#E5ECF6\",\"gridcolor\":\"white\",\"linecolor\":\"white\",\"showbackground\":true,\"ticks\":\"\",\"zerolinecolor\":\"white\",\"gridwidth\":2},\"zaxis\":{\"backgroundcolor\":\"#E5ECF6\",\"gridcolor\":\"white\",\"linecolor\":\"white\",\"showbackground\":true,\"ticks\":\"\",\"zerolinecolor\":\"white\",\"gridwidth\":2}},\"shapedefaults\":{\"line\":{\"color\":\"#2a3f5f\"}},\"annotationdefaults\":{\"arrowcolor\":\"#2a3f5f\",\"arrowhead\":0,\"arrowwidth\":1},\"geo\":{\"bgcolor\":\"white\",\"landcolor\":\"#E5ECF6\",\"subunitcolor\":\"white\",\"showland\":true,\"showlakes\":true,\"lakecolor\":\"white\"},\"title\":{\"x\":0.05},\"mapbox\":{\"style\":\"light\"}}},\"mapbox\":{\"domain\":{\"x\":[0.0,1.0],\"y\":[0.0,1.0]},\"center\":{\"lat\":19.85934255080214,\"lon\":16.109625101604276},\"zoom\":3,\"style\":\"open-street-map\"},\"coloraxis\":{\"colorbar\":{\"title\":{\"text\":\"Confirmed\"}},\"colorscale\":[[0.0,\"#0d0887\"],[0.1111111111111111,\"#46039f\"],[0.2222222222222222,\"#7201a8\"],[0.3333333333333333,\"#9c179e\"],[0.4444444444444444,\"#bd3786\"],[0.5555555555555556,\"#d8576b\"],[0.6666666666666666,\"#ed7953\"],[0.7777777777777778,\"#fb9f3a\"],[0.8888888888888888,\"#fdca26\"],[1.0,\"#f0f921\"]]},\"legend\":{\"tracegroupgap\":0,\"itemsizing\":\"constant\"},\"title\":{\"text\":\"Confirmed Cases World Wide\"},\"height\":600,\"width\":800,\"margin\":{\"r\":0,\"t\":50,\"l\":0,\"b\":10}},                        {\"responsive\": true}                    ).then(function(){\n",
       "                            \n",
       "var gd = document.getElementById('aaf28530-6201-4d71-abb4-a59789b95e96');\n",
       "var x = new MutationObserver(function (mutations, observer) {{\n",
       "        var display = window.getComputedStyle(gd).display;\n",
       "        if (!display || display === 'none') {{\n",
       "            console.log([gd, 'removed!']);\n",
       "            Plotly.purge(gd);\n",
       "            observer.disconnect();\n",
       "        }}\n",
       "}});\n",
       "\n",
       "// Listen for the removal of the full notebook cells\n",
       "var notebookContainer = gd.closest('#notebook-container');\n",
       "if (notebookContainer) {{\n",
       "    x.observe(notebookContainer, {childList: true});\n",
       "}}\n",
       "\n",
       "// Listen for the clearing of the current output cell\n",
       "var outputEl = gd.closest('.output');\n",
       "if (outputEl) {{\n",
       "    x.observe(outputEl, {childList: true});\n",
       "}}\n",
       "\n",
       "                        })                };                });            </script>        </div>"
      ]
     },
     "metadata": {},
     "output_type": "display_data"
    }
   ],
   "source": [
    "fig = px.scatter_mapbox(\n",
    "    df_country_1, \n",
    "    lon = df_country_1[\"Long\"],\n",
    "    lat = df_country_1[\"Lat\"],\n",
    "    zoom=3,\n",
    "    color=df_country_1[\"Confirmed\"],\n",
    "    size=df_country_1[\"Confirmed\"],\n",
    "    width=800,\n",
    "    height=600,\n",
    "    title=\"Confirmed Cases World Wide\",\n",
    "    text=\"Country/Region\",\n",
    "    hover_data=[\"Recovered\", \"Deaths\"]\n",
    ")\n",
    "\n",
    "fig.update_layout(mapbox_style=\"open-street-map\")\n",
    "fig.update_layout(margin={\"r\": 0, \"t\": 50, \"l\": 0, \"b\": 10})\n",
    "\n",
    "fig.show()"
   ]
  },
  {
   "cell_type": "markdown",
   "id": "92885f40",
   "metadata": {
    "papermill": {
     "duration": 0.0234,
     "end_time": "2023-02-14T14:47:35.606101",
     "exception": false,
     "start_time": "2023-02-14T14:47:35.582701",
     "status": "completed"
    },
    "tags": []
   },
   "source": [
    "## 2. Monthly Cases Count FY-2020"
   ]
  },
  {
   "cell_type": "code",
   "execution_count": 47,
   "id": "bd8ca661",
   "metadata": {
    "execution": {
     "iopub.execute_input": "2023-02-14T14:47:35.655381Z",
     "iopub.status.busy": "2023-02-14T14:47:35.654588Z",
     "iopub.status.idle": "2023-02-14T14:47:35.990803Z",
     "shell.execute_reply": "2023-02-14T14:47:35.989961Z"
    },
    "papermill": {
     "duration": 0.363654,
     "end_time": "2023-02-14T14:47:35.993074",
     "exception": false,
     "start_time": "2023-02-14T14:47:35.629420",
     "status": "completed"
    },
    "tags": []
   },
   "outputs": [
    {
     "data": {
      "image/png": "[encoded data removed]",
      "text/plain": [
       "<Figure size 576x432 with 1 Axes>"
      ]
     },
     "metadata": {
      "needs_background": "light"
     },
     "output_type": "display_data"
    }
   ],
   "source": [
    "df_monthly = df_daywise_1.groupby(by=\"Month\")[[\"Confirmed\", \"Deaths\", \"Recovered\"]].sum()\n",
    "df_monthly.plot.bar(figsize=[8, 6])\n",
    "plt.title(\"Monthly Cases Status FY-2020\\n\", fontdict=title)\n",
    "plt.xlabel(\"Month\", fontdict=x_y_labels)\n",
    "plt.ylabel(\"Number of cases\", fontdict=x_y_labels)\n",
    "\n",
    "ticks = np.arange(0, 4*10**8, 0.5*10**8, dtype=int)\n",
    "labels = [f\"{tick//10**6}M\" for tick in ticks]\n",
    "plt.yticks(ticks, labels)\n",
    "plt.show()"
   ]
  },
  {
   "cell_type": "markdown",
   "id": "4cd525d9",
   "metadata": {
    "papermill": {
     "duration": 0.022326,
     "end_time": "2023-02-14T14:47:36.040418",
     "exception": false,
     "start_time": "2023-02-14T14:47:36.018092",
     "status": "completed"
    },
    "tags": []
   },
   "source": [
    "## 3. Interactive bar graph for case details country and month wise"
   ]
  },
  {
   "cell_type": "code",
   "execution_count": 48,
   "id": "6e84ecc5",
   "metadata": {
    "execution": {
     "iopub.execute_input": "2023-02-14T14:47:36.089085Z",
     "iopub.status.busy": "2023-02-14T14:47:36.088458Z",
     "iopub.status.idle": "2023-02-14T14:47:36.152287Z",
     "shell.execute_reply": "2023-02-14T14:47:36.151178Z"
    },
    "papermill": {
     "duration": 0.090886,
     "end_time": "2023-02-14T14:47:36.154682",
     "exception": false,
     "start_time": "2023-02-14T14:47:36.063796",
     "status": "completed"
    },
    "tags": []
   },
   "outputs": [],
   "source": [
    "w_month = widgets.BoundedFloatText(\n",
    "    value=df_complete_1.Month.min(),\n",
    "    min=df_complete_1.Month.min(),\n",
    "    max=df_complete_1.Month.max(),\n",
    "    step=1,\n",
    "    description=\"Month: \",\n",
    "    disabled=False,\n",
    "    color=\"black\"\n",
    ")\n",
    "\n",
    "w_country = widgets.Dropdown(\n",
    "    options = [\"All\"] + list(df_complete_1[\"Country/Region\"].sort_values(ascending=True).unique()),\n",
    "    value=\"All\",\n",
    "    description=\"Country/Region: \"\n",
    ")\n",
    "\n",
    "def plot_data(w_month, w_country):\n",
    "    plt.figure(figsize=[8,6])\n",
    "    df_sliced = df_complete_1.copy()\n",
    "    if w_country == \"All\":\n",
    "        df_sliced = df_sliced[df_sliced[\"Month\"] == w_month]\n",
    "        df_sliced[[\"Confirmed\", \"Deaths\", \"Recovered\"]].sum().plot(\n",
    "            kind=\"bar\",\n",
    "            color=[\"yellow\", \"red\", \"green\"],\n",
    "            edgecolor=\"black\"\n",
    "        )\n",
    "        plt.title(\n",
    "            f\"Cases for {w_country} for the month of {int(w_month)}\\n\",\n",
    "            fontdict=title\n",
    "        )\n",
    "        plt.xlabel(\n",
    "            \"Month\",\n",
    "            fontdict=x_y_labels\n",
    "        )\n",
    "        plt.ylabel(\n",
    "            \"Number of cases\",\n",
    "            fontdict=x_y_labels\n",
    "        )\n",
    "        plt.show()\n",
    "    else:\n",
    "        df_sliced = df_sliced[(df_sliced[\"Country/Region\"] == w_country) & (df_sliced[\"Month\"] == w_month)]\n",
    "        if df_sliced.size > 0:\n",
    "            df_sliced.sum()[[\"Confirmed\", \"Deaths\", \"Recovered\"]].plot(\n",
    "                kind=\"bar\",\n",
    "                color=[\"yellow\", \"red\", \"green\"],\n",
    "                edgecolor=\"black\"\n",
    "            )\n",
    "            plt.title(\n",
    "                f\"Cases for {w_country} for the month of {int(w_month)}\\n\",\n",
    "                fontdict=title\n",
    "            )\n",
    "            plt.xlabel(\n",
    "                \"Month\",\n",
    "                fontdict=x_y_labels\n",
    "            )\n",
    "            plt.ylabel(\n",
    "                \"Number of cases\",\n",
    "                fontdict=x_y_labels\n",
    "            )\n",
    "            plt.show()\n",
    "        else:\n",
    "            print(\"No data to show for current selection\")"
   ]
  },
  {
   "cell_type": "code",
   "execution_count": 49,
   "id": "4002e910",
   "metadata": {
    "execution": {
     "iopub.execute_input": "2023-02-14T14:47:36.201946Z",
     "iopub.status.busy": "2023-02-14T14:47:36.201541Z",
     "iopub.status.idle": "2023-02-14T14:47:36.447668Z",
     "shell.execute_reply": "2023-02-14T14:47:36.446828Z"
    },
    "papermill": {
     "duration": 0.274064,
     "end_time": "2023-02-14T14:47:36.451994",
     "exception": false,
     "start_time": "2023-02-14T14:47:36.177930",
     "status": "completed"
    },
    "tags": []
   },
   "outputs": [
    {
     "data": {
      "application/vnd.jupyter.widget-view+json": {
       "model_id": "653d539b182e4eafbca36e0d1734c253",
       "version_major": 2,
       "version_minor": 0
      },
      "text/plain": [
       "interactive(children=(BoundedFloatText(value=1.0, description='Month: ', max=7.0, min=1.0, step=1.0), Dropdown…"
      ]
     },
     "metadata": {},
     "output_type": "display_data"
    }
   ],
   "source": [
    "interactive(plot_data, w_country=w_country, w_month=w_month)"
   ]
  },
  {
   "cell_type": "markdown",
   "id": "8e006402",
   "metadata": {
    "papermill": {
     "duration": 0.022856,
     "end_time": "2023-02-14T14:47:36.498513",
     "exception": false,
     "start_time": "2023-02-14T14:47:36.475657",
     "status": "completed"
    },
    "tags": []
   },
   "source": [
    "## 4. Top 10 countries with greatest recovery rate"
   ]
  },
  {
   "cell_type": "code",
   "execution_count": 50,
   "id": "676cc437",
   "metadata": {
    "execution": {
     "iopub.execute_input": "2023-02-14T14:47:36.546773Z",
     "iopub.status.busy": "2023-02-14T14:47:36.546211Z",
     "iopub.status.idle": "2023-02-14T14:47:36.552309Z",
     "shell.execute_reply": "2023-02-14T14:47:36.551076Z"
    },
    "papermill": {
     "duration": 0.033107,
     "end_time": "2023-02-14T14:47:36.554517",
     "exception": false,
     "start_time": "2023-02-14T14:47:36.521410",
     "status": "completed"
    },
    "tags": []
   },
   "outputs": [],
   "source": [
    "df_top_10_recovery_rate = df_country_1.copy()"
   ]
  },
  {
   "cell_type": "code",
   "execution_count": 51,
   "id": "a28f2546",
   "metadata": {
    "execution": {
     "iopub.execute_input": "2023-02-14T14:47:36.601803Z",
     "iopub.status.busy": "2023-02-14T14:47:36.601365Z",
     "iopub.status.idle": "2023-02-14T14:47:36.609760Z",
     "shell.execute_reply": "2023-02-14T14:47:36.608474Z"
    },
    "papermill": {
     "duration": 0.034741,
     "end_time": "2023-02-14T14:47:36.612098",
     "exception": false,
     "start_time": "2023-02-14T14:47:36.577357",
     "status": "completed"
    },
    "tags": []
   },
   "outputs": [],
   "source": [
    "df_top_10_recovery_rate[\"Recovery%\"] = (df_top_10_recovery_rate[\"Recovered\"]/df_top_10_recovery_rate[\"Confirmed\"])*100\n",
    "df_top_10_recovery_rate[\"Death%\"] = (df_top_10_recovery_rate[\"Deaths\"]/df_top_10_recovery_rate[\"Confirmed\"])*100"
   ]
  },
  {
   "cell_type": "code",
   "execution_count": 52,
   "id": "84fd0aed",
   "metadata": {
    "execution": {
     "iopub.execute_input": "2023-02-14T14:47:36.659926Z",
     "iopub.status.busy": "2023-02-14T14:47:36.658885Z",
     "iopub.status.idle": "2023-02-14T14:47:36.675932Z",
     "shell.execute_reply": "2023-02-14T14:47:36.674859Z"
    },
    "papermill": {
     "duration": 0.04334,
     "end_time": "2023-02-14T14:47:36.678316",
     "exception": false,
     "start_time": "2023-02-14T14:47:36.634976",
     "status": "completed"
    },
    "tags": []
   },
   "outputs": [
    {
     "data": {
      "text/html": [
       "<div>\n",
       "<style scoped>\n",
       "    .dataframe tbody tr th:only-of-type {\n",
       "        vertical-align: middle;\n",
       "    }\n",
       "\n",
       "    .dataframe tbody tr th {\n",
       "        vertical-align: top;\n",
       "    }\n",
       "\n",
       "    .dataframe thead th {\n",
       "        text-align: right;\n",
       "    }\n",
       "</style>\n",
       "<table border=\"1\" class=\"dataframe\">\n",
       "  <thead>\n",
       "    <tr style=\"text-align: right;\">\n",
       "      <th></th>\n",
       "      <th>Country/Region</th>\n",
       "      <th>Confirmed</th>\n",
       "      <th>Deaths</th>\n",
       "      <th>Recovered</th>\n",
       "      <th>Active</th>\n",
       "      <th>New cases</th>\n",
       "      <th>New deaths</th>\n",
       "      <th>New recovered</th>\n",
       "      <th>WHO Region</th>\n",
       "      <th>Lat</th>\n",
       "      <th>Long</th>\n",
       "      <th>Recovery%</th>\n",
       "      <th>Death%</th>\n",
       "    </tr>\n",
       "  </thead>\n",
       "  <tbody>\n",
       "    <tr>\n",
       "      <th>0</th>\n",
       "      <td>Afghanistan</td>\n",
       "      <td>36263</td>\n",
       "      <td>1269</td>\n",
       "      <td>25198</td>\n",
       "      <td>9796</td>\n",
       "      <td>106</td>\n",
       "      <td>10</td>\n",
       "      <td>18</td>\n",
       "      <td>Eastern Mediterranean</td>\n",
       "      <td>33.93911</td>\n",
       "      <td>67.709953</td>\n",
       "      <td>69.486805</td>\n",
       "      <td>3.499435</td>\n",
       "    </tr>\n",
       "    <tr>\n",
       "      <th>1</th>\n",
       "      <td>Albania</td>\n",
       "      <td>4880</td>\n",
       "      <td>144</td>\n",
       "      <td>2745</td>\n",
       "      <td>1991</td>\n",
       "      <td>117</td>\n",
       "      <td>6</td>\n",
       "      <td>63</td>\n",
       "      <td>Europe</td>\n",
       "      <td>41.15330</td>\n",
       "      <td>20.168300</td>\n",
       "      <td>56.250000</td>\n",
       "      <td>2.950820</td>\n",
       "    </tr>\n",
       "    <tr>\n",
       "      <th>2</th>\n",
       "      <td>Algeria</td>\n",
       "      <td>27973</td>\n",
       "      <td>1163</td>\n",
       "      <td>18837</td>\n",
       "      <td>7973</td>\n",
       "      <td>616</td>\n",
       "      <td>8</td>\n",
       "      <td>749</td>\n",
       "      <td>Africa</td>\n",
       "      <td>28.03390</td>\n",
       "      <td>1.659600</td>\n",
       "      <td>67.339935</td>\n",
       "      <td>4.157581</td>\n",
       "    </tr>\n",
       "    <tr>\n",
       "      <th>3</th>\n",
       "      <td>Andorra</td>\n",
       "      <td>907</td>\n",
       "      <td>52</td>\n",
       "      <td>803</td>\n",
       "      <td>52</td>\n",
       "      <td>10</td>\n",
       "      <td>0</td>\n",
       "      <td>0</td>\n",
       "      <td>Europe</td>\n",
       "      <td>42.50630</td>\n",
       "      <td>1.521800</td>\n",
       "      <td>88.533627</td>\n",
       "      <td>5.733186</td>\n",
       "    </tr>\n",
       "    <tr>\n",
       "      <th>4</th>\n",
       "      <td>Angola</td>\n",
       "      <td>950</td>\n",
       "      <td>41</td>\n",
       "      <td>242</td>\n",
       "      <td>667</td>\n",
       "      <td>18</td>\n",
       "      <td>1</td>\n",
       "      <td>0</td>\n",
       "      <td>Africa</td>\n",
       "      <td>-11.20270</td>\n",
       "      <td>17.873900</td>\n",
       "      <td>25.473684</td>\n",
       "      <td>4.315789</td>\n",
       "    </tr>\n",
       "  </tbody>\n",
       "</table>\n",
       "</div>"
      ],
      "text/plain": [
       "  Country/Region  Confirmed  Deaths  Recovered  Active  New cases  New deaths  \\\n",
       "0    Afghanistan      36263    1269      25198    9796        106          10   \n",
       "1        Albania       4880     144       2745    1991        117           6   \n",
       "2        Algeria      27973    1163      18837    7973        616           8   \n",
       "3        Andorra        907      52        803      52         10           0   \n",
       "4         Angola        950      41        242     667         18           1   \n",
       "\n",
       "   New recovered             WHO Region       Lat       Long  Recovery%  \\\n",
       "0             18  Eastern Mediterranean  33.93911  67.709953  69.486805   \n",
       "1             63                 Europe  41.15330  20.168300  56.250000   \n",
       "2            749                 Africa  28.03390   1.659600  67.339935   \n",
       "3              0                 Europe  42.50630   1.521800  88.533627   \n",
       "4              0                 Africa -11.20270  17.873900  25.473684   \n",
       "\n",
       "     Death%  \n",
       "0  3.499435  \n",
       "1  2.950820  \n",
       "2  4.157581  \n",
       "3  5.733186  \n",
       "4  4.315789  "
      ]
     },
     "execution_count": 52,
     "metadata": {},
     "output_type": "execute_result"
    }
   ],
   "source": [
    "df_top_10_recovery_rate.head()"
   ]
  },
  {
   "cell_type": "code",
   "execution_count": 53,
   "id": "87ac3b3e",
   "metadata": {
    "execution": {
     "iopub.execute_input": "2023-02-14T14:47:36.726749Z",
     "iopub.status.busy": "2023-02-14T14:47:36.726291Z",
     "iopub.status.idle": "2023-02-14T14:47:36.983593Z",
     "shell.execute_reply": "2023-02-14T14:47:36.982668Z"
    },
    "papermill": {
     "duration": 0.284459,
     "end_time": "2023-02-14T14:47:36.985866",
     "exception": false,
     "start_time": "2023-02-14T14:47:36.701407",
     "status": "completed"
    },
    "tags": []
   },
   "outputs": [
    {
     "data": {
      "image/png": "[encoded data removed]",
      "text/plain": [
       "<Figure size 432x288 with 1 Axes>"
      ]
     },
     "metadata": {
      "needs_background": "light"
     },
     "output_type": "display_data"
    }
   ],
   "source": [
    "top_affected_countries = df_top_10_recovery_rate.sort_values(by=\"Confirmed\", ascending=False).head(10)\n",
    "top_10 = top_affected_countries.sort_values(by=\"Recovery%\", ascending=False)\n",
    "\n",
    "plt.bar(\n",
    "    x=top_10[\"Country/Region\"], \n",
    "    height=top_10[\"Death%\"],\n",
    "    edgecolor=\"black\",\n",
    "    color=\"red\"\n",
    ")\n",
    "\n",
    "plt.bar(\n",
    "    x=top_10[\"Country/Region\"], \n",
    "    height=top_10[\"Recovery%\"],\n",
    "    edgecolor=\"black\",\n",
    "    bottom=top_10[\"Death%\"],\n",
    "    color=\"green\"\n",
    ")\n",
    "\n",
    "plt.title(\"Top 10 most affected countries ordered using recovery% & death%\\n\", fontdict=title)\n",
    "plt.xlabel(\"Countries\", fontdict=x_y_labels)\n",
    "plt.ylabel(\"Recovery(%)\", fontdict=x_y_labels)\n",
    "\n",
    "plt.xticks(rotation=90)\n",
    "plt.show()"
   ]
  }
 ],
 "metadata": {
  "kernelspec": {
   "display_name": "Python 3",
   "language": "python",
   "name": "python3"
  },
  "language_info": {
   "codemirror_mode": {
    "name": "ipython",
    "version": 3
   },
   "file_extension": ".py",
   "mimetype": "text/x-python",
   "name": "python",
   "nbconvert_exporter": "python",
   "pygments_lexer": "ipython3",
   "version": "3.7.12"
  },
  "papermill": {
   "default_parameters": {},
   "duration": 21.150835,
   "end_time": "2023-02-14T14:47:37.934605",
   "environment_variables": {},
   "exception": null,
   "input_path": "__notebook__.ipynb",
   "output_path": "__notebook__.ipynb",
   "parameters": {},
   "start_time": "2023-02-14T14:47:16.783770",
   "version": "2.3.4"
  },
  "widgets": {
   "application/vnd.jupyter.widget-state+json": {
    "state": {
     "0ad616d52c82453992469f71453971e6": {
      "model_module": "@jupyter-widgets/base",
      "model_module_version": "1.2.0",
      "model_name": "LayoutModel",
      "state": {
       "_model_module": "@jupyter-widgets/base",
       "_model_module_version": "1.2.0",
       "_model_name": "LayoutModel",
       "_view_count": null,
       "_view_module": "@jupyter-widgets/base",
       "_view_module_version": "1.2.0",
       "_view_name": "LayoutView",
       "align_content": null,
       "align_items": null,
       "align_self": null,
       "border": null,
       "bottom": null,
       "display": null,
       "flex": null,
       "flex_flow": null,
       "grid_area": null,
       "grid_auto_columns": null,
       "grid_auto_flow": null,
       "grid_auto_rows": null,
       "grid_column": null,
       "grid_gap": null,
       "grid_row": null,
       "grid_template_areas": null,
       "grid_template_columns": null,
       "grid_template_rows": null,
       "height": null,
       "justify_content": null,
       "justify_items": null,
       "left": null,
       "margin": null,
       "max_height": null,
       "max_width": null,
       "min_height": null,
       "min_width": null,
       "object_fit": null,
       "object_position": null,
       "order": null,
       "overflow": null,
       "overflow_x": null,
       "overflow_y": null,
       "padding": null,
       "right": null,
       "top": null,
       "visibility": null,
       "width": null
      }
     },
     "2f449408e26d4613b47766e766cf3968": {
      "model_module": "@jupyter-widgets/controls",
      "model_module_version": "1.5.0",
      "model_name": "DropdownModel",
      "state": {
       "_dom_classes": [],
       "_model_module": "@jupyter-widgets/controls",
       "_model_module_version": "1.5.0",
       "_model_name": "DropdownModel",
       "_options_labels": [
        "All",
        "Afghanistan",
        "Albania",
        "Algeria",
        "Andorra",
        "Angola",
        "Antigua and Barbuda",
        "Argentina",
        "Armenia",
        "Australia",
        "Austria",
        "Azerbaijan",
        "Bahamas",
        "Bahrain",
        "Bangladesh",
        "Barbados",
        "Belarus",
        "Belgium",
        "Belize",
        "Benin",
        "Bhutan",
        "Bolivia",
        "Bosnia and Herzegovina",
        "Botswana",
        "Brazil",
        "Brunei",
        "Bulgaria",
        "Burkina Faso",
        "Burma",
        "Burundi",
        "Cabo Verde",
        "Cambodia",
        "Cameroon",
        "Canada",
        "Central African Republic",
        "Chad",
        "Chile",
        "China",
        "Colombia",
        "Comoros",
        "Congo (Brazzaville)",
        "Congo (Kinshasa)",
        "Costa Rica",
        "Cote d'Ivoire",
        "Croatia",
        "Cuba",
        "Cyprus",
        "Czechia",
        "Denmark",
        "Djibouti",
        "Dominica",
        "Dominican Republic",
        "Ecuador",
        "Egypt",
        "El Salvador",
        "Equatorial Guinea",
        "Eritrea",
        "Estonia",
        "Eswatini",
        "Ethiopia",
        "Fiji",
        "Finland",
        "France",
        "Gabon",
        "Gambia",
        "Georgia",
        "Germany",
        "Ghana",
        "Greece",
        "Greenland",
        "Grenada",
        "Guatemala",
        "Guinea",
        "Guinea-Bissau",
        "Guyana",
        "Haiti",
        "Holy See",
        "Honduras",
        "Hungary",
        "Iceland",
        "India",
        "Indonesia",
        "Iran",
        "Iraq",
        "Ireland",
        "Israel",
        "Italy",
        "Jamaica",
        "Japan",
        "Jordan",
        "Kazakhstan",
        "Kenya",
        "Kosovo",
        "Kuwait",
        "Kyrgyzstan",
        "Laos",
        "Latvia",
        "Lebanon",
        "Lesotho",
        "Liberia",
        "Libya",
        "Liechtenstein",
        "Lithuania",
        "Luxembourg",
        "Madagascar",
        "Malawi",
        "Malaysia",
        "Maldives",
        "Mali",
        "Malta",
        "Mauritania",
        "Mauritius",
        "Mexico",
        "Moldova",
        "Monaco",
        "Mongolia",
        "Montenegro",
        "Morocco",
        "Mozambique",
        "Namibia",
        "Nepal",
        "Netherlands",
        "New Zealand",
        "Nicaragua",
        "Niger",
        "Nigeria",
        "North Macedonia",
        "Norway",
        "Oman",
        "Pakistan",
        "Panama",
        "Papua New Guinea",
        "Paraguay",
        "Peru",
        "Philippines",
        "Poland",
        "Portugal",
        "Qatar",
        "Romania",
        "Russia",
        "Rwanda",
        "Saint Kitts and Nevis",
        "Saint Lucia",
        "Saint Vincent and the Grenadines",
        "San Marino",
        "Sao Tome and Principe",
        "Saudi Arabia",
        "Senegal",
        "Serbia",
        "Seychelles",
        "Sierra Leone",
        "Singapore",
        "Slovakia",
        "Slovenia",
        "Somalia",
        "South Africa",
        "South Korea",
        "South Sudan",
        "Spain",
        "Sri Lanka",
        "Sudan",
        "Suriname",
        "Sweden",
        "Switzerland",
        "Syria",
        "Taiwan*",
        "Tajikistan",
        "Tanzania",
        "Thailand",
        "Timor-Leste",
        "Togo",
        "Trinidad and Tobago",
        "Tunisia",
        "Turkey",
        "US",
        "Uganda",
        "Ukraine",
        "United Arab Emirates",
        "United Kingdom",
        "Uruguay",
        "Uzbekistan",
        "Venezuela",
        "Vietnam",
        "West Bank and Gaza",
        "Western Sahara",
        "Yemen",
        "Zambia",
        "Zimbabwe"
       ],
       "_view_count": null,
       "_view_module": "@jupyter-widgets/controls",
       "_view_module_version": "1.5.0",
       "_view_name": "DropdownView",
       "description": "Country/Region: ",
       "description_tooltip": null,
       "disabled": false,
       "index": 0,
       "layout": "IPY_MODEL_0ad616d52c82453992469f71453971e6",
       "style": "IPY_MODEL_3ccf7303e89440fd9bc68d323e6b059e"
      }
     },
     "3ccf7303e89440fd9bc68d323e6b059e": {
      "model_module": "@jupyter-widgets/controls",
      "model_module_version": "1.5.0",
      "model_name": "DescriptionStyleModel",
      "state": {
       "_model_module": "@jupyter-widgets/controls",
       "_model_module_version": "1.5.0",
       "_model_name": "DescriptionStyleModel",
       "_view_count": null,
       "_view_module": "@jupyter-widgets/base",
       "_view_module_version": "1.2.0",
       "_view_name": "StyleView",
       "description_width": ""
      }
     },
     "60418cecffc1438387446249b6311d94": {
      "model_module": "@jupyter-widgets/output",
      "model_module_version": "1.0.0",
      "model_name": "OutputModel",
      "state": {
       "_dom_classes": [],
       "_model_module": "@jupyter-widgets/output",
       "_model_module_version": "1.0.0",
       "_model_name": "OutputModel",
       "_view_count": null,
       "_view_module": "@jupyter-widgets/output",
       "_view_module_version": "1.0.0",
       "_view_name": "OutputView",
       "layout": "IPY_MODEL_ffb58a818cdb4a03a4684e2f85ffec51",
       "msg_id": "",
       "outputs": [
        {
         "data": {
          "image/png": "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\n",
          "text/plain": "<Figure size 576x432 with 1 Axes>"
         },
         "metadata": {
          "needs_background": "light"
         },
         "output_type": "display_data"
        }
       ]
      }
     },
     "653d539b182e4eafbca36e0d1734c253": {
      "model_module": "@jupyter-widgets/controls",
      "model_module_version": "1.5.0",
      "model_name": "VBoxModel",
      "state": {
       "_dom_classes": [
        "widget-interact"
       ],
       "_model_module": "@jupyter-widgets/controls",
       "_model_module_version": "1.5.0",
       "_model_name": "VBoxModel",
       "_view_count": null,
       "_view_module": "@jupyter-widgets/controls",
       "_view_module_version": "1.5.0",
       "_view_name": "VBoxView",
       "box_style": "",
       "children": [
        "IPY_MODEL_6860e85104824568b22e914543474299",
        "IPY_MODEL_2f449408e26d4613b47766e766cf3968",
        "IPY_MODEL_60418cecffc1438387446249b6311d94"
       ],
       "layout": "IPY_MODEL_be03f58518ca49388f11065f789f9bba"
      }
     },
     "6860e85104824568b22e914543474299": {
      "model_module": "@jupyter-widgets/controls",
      "model_module_version": "1.5.0",
      "model_name": "BoundedFloatTextModel",
      "state": {
       "_dom_classes": [],
       "_model_module": "@jupyter-widgets/controls",
       "_model_module_version": "1.5.0",
       "_model_name": "BoundedFloatTextModel",
       "_view_count": null,
       "_view_module": "@jupyter-widgets/controls",
       "_view_module_version": "1.5.0",
       "_view_name": "FloatTextView",
       "continuous_update": false,
       "description": "Month: ",
       "description_tooltip": null,
       "disabled": false,
       "layout": "IPY_MODEL_cfe970d2d97f40e6bde89649d2e546b7",
       "max": 7.0,
       "min": 1.0,
       "step": 1.0,
       "style": "IPY_MODEL_b8df360666014d708f0f4693cfc19e78",
       "value": 1.0
      }
     },
     "b8df360666014d708f0f4693cfc19e78": {
      "model_module": "@jupyter-widgets/controls",
      "model_module_version": "1.5.0",
      "model_name": "DescriptionStyleModel",
      "state": {
       "_model_module": "@jupyter-widgets/controls",
       "_model_module_version": "1.5.0",
       "_model_name": "DescriptionStyleModel",
       "_view_count": null,
       "_view_module": "@jupyter-widgets/base",
       "_view_module_version": "1.2.0",
       "_view_name": "StyleView",
       "description_width": ""
      }
     },
     "be03f58518ca49388f11065f789f9bba": {
      "model_module": "@jupyter-widgets/base",
      "model_module_version": "1.2.0",
      "model_name": "LayoutModel",
      "state": {
       "_model_module": "@jupyter-widgets/base",
       "_model_module_version": "1.2.0",
       "_model_name": "LayoutModel",
       "_view_count": null,
       "_view_module": "@jupyter-widgets/base",
       "_view_module_version": "1.2.0",
       "_view_name": "LayoutView",
       "align_content": null,
       "align_items": null,
       "align_self": null,
       "border": null,
       "bottom": null,
       "display": null,
       "flex": null,
       "flex_flow": null,
       "grid_area": null,
       "grid_auto_columns": null,
       "grid_auto_flow": null,
       "grid_auto_rows": null,
       "grid_column": null,
       "grid_gap": null,
       "grid_row": null,
       "grid_template_areas": null,
       "grid_template_columns": null,
       "grid_template_rows": null,
       "height": null,
       "justify_content": null,
       "justify_items": null,
       "left": null,
       "margin": null,
       "max_height": null,
       "max_width": null,
       "min_height": null,
       "min_width": null,
       "object_fit": null,
       "object_position": null,
       "order": null,
       "overflow": null,
       "overflow_x": null,
       "overflow_y": null,
       "padding": null,
       "right": null,
       "top": null,
       "visibility": null,
       "width": null
      }
     },
     "cfe970d2d97f40e6bde89649d2e546b7": {
      "model_module": "@jupyter-widgets/base",
      "model_module_version": "1.2.0",
      "model_name": "LayoutModel",
      "state": {
       "_model_module": "@jupyter-widgets/base",
       "_model_module_version": "1.2.0",
       "_model_name": "LayoutModel",
       "_view_count": null,
       "_view_module": "@jupyter-widgets/base",
       "_view_module_version": "1.2.0",
       "_view_name": "LayoutView",
       "align_content": null,
       "align_items": null,
       "align_self": null,
       "border": null,
       "bottom": null,
       "display": null,
       "flex": null,
       "flex_flow": null,
       "grid_area": null,
       "grid_auto_columns": null,
       "grid_auto_flow": null,
       "grid_auto_rows": null,
       "grid_column": null,
       "grid_gap": null,
       "grid_row": null,
       "grid_template_areas": null,
       "grid_template_columns": null,
       "grid_template_rows": null,
       "height": null,
       "justify_content": null,
       "justify_items": null,
       "left": null,
       "margin": null,
       "max_height": null,
       "max_width": null,
       "min_height": null,
       "min_width": null,
       "object_fit": null,
       "object_position": null,
       "order": null,
       "overflow": null,
       "overflow_x": null,
       "overflow_y": null,
       "padding": null,
       "right": null,
       "top": null,
       "visibility": null,
       "width": null
      }
     },
     "ffb58a818cdb4a03a4684e2f85ffec51": {
      "model_module": "@jupyter-widgets/base",
      "model_module_version": "1.2.0",
      "model_name": "LayoutModel",
      "state": {
       "_model_module": "@jupyter-widgets/base",
       "_model_module_version": "1.2.0",
       "_model_name": "LayoutModel",
       "_view_count": null,
       "_view_module": "@jupyter-widgets/base",
       "_view_module_version": "1.2.0",
       "_view_name": "LayoutView",
       "align_content": null,
       "align_items": null,
       "align_self": null,
       "border": null,
       "bottom": null,
       "display": null,
       "flex": null,
       "flex_flow": null,
       "grid_area": null,
       "grid_auto_columns": null,
       "grid_auto_flow": null,
       "grid_auto_rows": null,
       "grid_column": null,
       "grid_gap": null,
       "grid_row": null,
       "grid_template_areas": null,
       "grid_template_columns": null,
       "grid_template_rows": null,
       "height": null,
       "justify_content": null,
       "justify_items": null,
       "left": null,
       "margin": null,
       "max_height": null,
       "max_width": null,
       "min_height": null,
       "min_width": null,
       "object_fit": null,
       "object_position": null,
       "order": null,
       "overflow": null,
       "overflow_x": null,
       "overflow_y": null,
       "padding": null,
       "right": null,
       "top": null,
       "visibility": null,
       "width": null
      }
     }
    },
    "version_major": 2,
    "version_minor": 0
   }
  }
 },
 "nbformat": 4,
 "nbformat_minor": 5
}
